{
 "metadata": {
  "language_info": {
   "codemirror_mode": {
    "name": "ipython",
    "version": 3
   },
   "file_extension": ".py",
   "mimetype": "text/x-python",
   "name": "python",
   "nbconvert_exporter": "python",
   "pygments_lexer": "ipython3",
   "version": "3.8.5-final"
  },
  "orig_nbformat": 2,
  "kernelspec": {
   "name": "Python 3.8.5 64-bit ('IUA')",
   "display_name": "Python 3.8.5 64-bit ('IUA')",
   "metadata": {
    "interpreter": {
     "hash": "31e8c18851cc2616071ca7e5dcdbafd0634b8d1e2e632646433bf1c202497ec9"
    }
   }
  }
 },
 "nbformat": 4,
 "nbformat_minor": 2,
 "cells": [
  {
   "source": [
    "V tejto fáze sa od Vás očakáva:\n",
    "\n",
    "**Základný opis dát spolu s ich charakteristikami (5b).**\n",
    "\n",
    "Pre dosiahnutie plného počtu bodov uveďte\n",
    "\n",
    "- počet záznamov,\n",
    "- počet atribútov,\n",
    "- ich typy,\n",
    "- pre zvolené významné atribúty ich distribúcie, základné deskriptívne štatistiky a pod.\n",
    "\n",
    "**Párová analýza dát (5b).**\n",
    "\n",
    "- Preskúmajte vzťahy medzi zvolenými dvojicami atribútov.\n",
    "- Identifikujte závislostí medzi dvojicami atribútov (napr. korelácie) a na závislosti medzi predikovanou premennou a ostatnými premennými (potenciálnymi prediktormi).\n",
    "\n",
    "**Formulácia a štatistické overenie hypotéz o dátach (2b).**\n",
    "\n",
    "- Mali by ste sformulovať aspoň dve hypotézy o dátach, ktoré budú relevantné v kontexte zadanej predikčnej úlohy. Príkladom hypotézy v doméne (v závislosti od pridelenej dátovej sady) môže byť, napr. *pacienti s chorobou štítnej žľazy majú v priemere inú (vyššiu/nižšiu) hodnotu nejakej látky alebo hormónu ako pacienti bez danej choroby*.\n",
    "- Vami sformulované hypotézy overte vhodne zvoleným štatistickým testom.\n",
    "\n",
    "**Identifikácia problémov v dátach spolu s predpokladaným scenárom riešenia v ďalšej fáze (4b).**\n",
    "\n",
    "Identifikujte, čo a ako budete musieť v rámci predspracovania vyriešiť v ďalšej fáze, napr.:\n",
    "\n",
    "- nevhodná štruktúra dát (dáta nie sú v tabuľkovej podobe alebo jedna entita je opísaná viacerými riadkami tabuľky)\n",
    "- duplicitné záznamy, resp. nejednoznačné mapovanie medzi záznamami\n",
    "- nejednotné formáty dát\n",
    "- chýbajúce hodnoty\n",
    "- vychýlené (odľahlé) hodnoty\n",
    "- v dátach sa môžu nachádzať aj iné, tu nevymenované problémy.\n",
    "\n",
    "**V odovzdanej správe (`Jupyter Notebooku`) by ste tak mali vedieť zodpovedať na otázky**\n",
    "\n",
    "- Majú dáta vhodný formát pre ďalšie spracovanie? Ak nie, aké problémy sa v nich vyskytujú?\n",
    "- Sú niektoré atribúty medzi sebou závislé? Od ktorých (jednotlivých) atribútov závisí predikovaná premenná?\n",
    "- Sú v dátach chýbajúce hodnoty? Ako sú reprezentované? Ako plánujete riešiť problém chýbajúcich hodnôt pre jednotlivé atribúty, resp. pozorovania? (Pre rôzne atribúty môže byť vhodné použiť rôzne stratégie.)\n",
    "- Nadobúdajú niektoré atribúty nezmyselné (nekonzistentné) či inak výrazne odchýlené hodnoty? Ktoré?\n",
    "- Ako plánujete v ďalšej fáze tieto identifikované problémy adresovať / riešiť?\n",
    "\n",
    "> Správa sa odovzdáva v 6. týždni semestra na cvičení. Dvojica svojmu cvičiacemu odprezentuje vykonanú prieskumnú analýzu v Jupyter Notebooku). Následne správu elektronicky odovzdá jeden člen z dvojice do systému AIS do nedele 01.11.2020 23:59."
   ],
   "cell_type": "markdown",
   "metadata": {}
  }
 ]
}