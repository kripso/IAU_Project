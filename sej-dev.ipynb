{
 "metadata": {
  "language_info": {
   "codemirror_mode": {
    "name": "ipython",
    "version": 3
   },
   "file_extension": ".py",
   "mimetype": "text/x-python",
   "name": "python",
   "nbconvert_exporter": "python",
   "pygments_lexer": "ipython3",
   "version": "3.8.6-final"
  },
  "orig_nbformat": 2,
  "kernelspec": {
   "name": "Python 3.8.6 64-bit",
   "display_name": "Python 3.8.6 64-bit",
   "metadata": {
    "interpreter": {
     "hash": "2db524e06e9f5f4ffedc911c917cb75e12dbc923643829bf417064a77eb14d37"
    }
   }
  }
 },
 "nbformat": 4,
 "nbformat_minor": 2,
 "cells": [
  {
   "source": [],
   "cell_type": "markdown",
   "metadata": {}
  },
  {
   "cell_type": "code",
   "execution_count": 5,
   "metadata": {},
   "outputs": [],
   "source": [
    "import pandas as pd\n",
    "import matplotlib\n",
    "import seaborn as sns\n",
    "import statsmodels.api as sm\n",
    "import statsmodels.stats.api as sms\n",
    "import scipy.stats as stats\n",
    "from sklearn import preprocessing\n",
    "import numpy as np"
   ]
  },
  {
   "cell_type": "code",
   "execution_count": 6,
   "metadata": {},
   "outputs": [],
   "source": [
    "personal_data = pd.read_csv(\"Dataset/personal_train.csv\")\n",
    "other_data = pd.read_csv(\"Dataset/other_train.csv\")"
   ]
  },
  {
   "cell_type": "code",
   "execution_count": 7,
   "metadata": {},
   "outputs": [
    {
     "output_type": "execute_result",
     "data": {
      "text/plain": [
       "        Id                 name  \\\n",
       "0        0      Roscoe Bohannon   \n",
       "1        1         Ernest Kline   \n",
       "2        2      Harold Hendriks   \n",
       "3        3       Randy Baptiste   \n",
       "4        4      Anthony Colucci   \n",
       "...    ...                  ...   \n",
       "3928  3928      Clair Pinkleton   \n",
       "3929  3929         William Pope   \n",
       "3930  3930         Jared Kinsey   \n",
       "3931  3931     Frederick Lawley   \n",
       "3932  3932  Adalberto Daughters   \n",
       "\n",
       "                                                address  age      sex  \\\n",
       "0     7183 Osborne Ways Apt. 651\\r\\nEast Andrew, OH ...   58   Female   \n",
       "1     391 Ball Road Suite 961\\r\\nFlowersborough, IN ...   56     Male   \n",
       "2        8702 Vincent Square\\r\\nNew Jerryfurt, CO 30614   52     Male   \n",
       "3        2751 Harris Crossroad\\r\\nWest Ashley, CA 30311   64     Male   \n",
       "4     904 Robert Cliffs Suite 186\\r\\nWest Kyle, CO 7...   66     Male   \n",
       "...                                                 ...  ...      ...   \n",
       "3928             8582 Lee Roads\\r\\nCostaburgh, SC 21897   45   Female   \n",
       "3929  68430 Erik Terrace Suite 279\\r\\nPort Adamborou...   48   Female   \n",
       "3930                 Unit 8416 Box 3801\\r\\nDPO AE 31166   83     Male   \n",
       "3931   34420 Brian Stream\\r\\nLake Michaeltown, MS 01832   49   Female   \n",
       "3932                 Unit 7931 Box 0601\\r\\nDPO AE 50505   46   Female   \n",
       "\n",
       "     date_of_birth  \n",
       "0       18/01/1961  \n",
       "1       1962-11-08  \n",
       "2       1967-04-18  \n",
       "3         55-09-04  \n",
       "4       1952-12-05  \n",
       "...            ...  \n",
       "3928    1974-04-16  \n",
       "3929    1971-10-18  \n",
       "3930      36-04-15  \n",
       "3931    1970-05-06  \n",
       "3932      72-11-18  \n",
       "\n",
       "[3933 rows x 6 columns]"
      ],
      "text/html": "<div>\n<style scoped>\n    .dataframe tbody tr th:only-of-type {\n        vertical-align: middle;\n    }\n\n    .dataframe tbody tr th {\n        vertical-align: top;\n    }\n\n    .dataframe thead th {\n        text-align: right;\n    }\n</style>\n<table border=\"1\" class=\"dataframe\">\n  <thead>\n    <tr style=\"text-align: right;\">\n      <th></th>\n      <th>Id</th>\n      <th>name</th>\n      <th>address</th>\n      <th>age</th>\n      <th>sex</th>\n      <th>date_of_birth</th>\n    </tr>\n  </thead>\n  <tbody>\n    <tr>\n      <th>0</th>\n      <td>0</td>\n      <td>Roscoe Bohannon</td>\n      <td>7183 Osborne Ways Apt. 651\\r\\nEast Andrew, OH ...</td>\n      <td>58</td>\n      <td>Female</td>\n      <td>18/01/1961</td>\n    </tr>\n    <tr>\n      <th>1</th>\n      <td>1</td>\n      <td>Ernest Kline</td>\n      <td>391 Ball Road Suite 961\\r\\nFlowersborough, IN ...</td>\n      <td>56</td>\n      <td>Male</td>\n      <td>1962-11-08</td>\n    </tr>\n    <tr>\n      <th>2</th>\n      <td>2</td>\n      <td>Harold Hendriks</td>\n      <td>8702 Vincent Square\\r\\nNew Jerryfurt, CO 30614</td>\n      <td>52</td>\n      <td>Male</td>\n      <td>1967-04-18</td>\n    </tr>\n    <tr>\n      <th>3</th>\n      <td>3</td>\n      <td>Randy Baptiste</td>\n      <td>2751 Harris Crossroad\\r\\nWest Ashley, CA 30311</td>\n      <td>64</td>\n      <td>Male</td>\n      <td>55-09-04</td>\n    </tr>\n    <tr>\n      <th>4</th>\n      <td>4</td>\n      <td>Anthony Colucci</td>\n      <td>904 Robert Cliffs Suite 186\\r\\nWest Kyle, CO 7...</td>\n      <td>66</td>\n      <td>Male</td>\n      <td>1952-12-05</td>\n    </tr>\n    <tr>\n      <th>...</th>\n      <td>...</td>\n      <td>...</td>\n      <td>...</td>\n      <td>...</td>\n      <td>...</td>\n      <td>...</td>\n    </tr>\n    <tr>\n      <th>3928</th>\n      <td>3928</td>\n      <td>Clair Pinkleton</td>\n      <td>8582 Lee Roads\\r\\nCostaburgh, SC 21897</td>\n      <td>45</td>\n      <td>Female</td>\n      <td>1974-04-16</td>\n    </tr>\n    <tr>\n      <th>3929</th>\n      <td>3929</td>\n      <td>William Pope</td>\n      <td>68430 Erik Terrace Suite 279\\r\\nPort Adamborou...</td>\n      <td>48</td>\n      <td>Female</td>\n      <td>1971-10-18</td>\n    </tr>\n    <tr>\n      <th>3930</th>\n      <td>3930</td>\n      <td>Jared Kinsey</td>\n      <td>Unit 8416 Box 3801\\r\\nDPO AE 31166</td>\n      <td>83</td>\n      <td>Male</td>\n      <td>36-04-15</td>\n    </tr>\n    <tr>\n      <th>3931</th>\n      <td>3931</td>\n      <td>Frederick Lawley</td>\n      <td>34420 Brian Stream\\r\\nLake Michaeltown, MS 01832</td>\n      <td>49</td>\n      <td>Female</td>\n      <td>1970-05-06</td>\n    </tr>\n    <tr>\n      <th>3932</th>\n      <td>3932</td>\n      <td>Adalberto Daughters</td>\n      <td>Unit 7931 Box 0601\\r\\nDPO AE 50505</td>\n      <td>46</td>\n      <td>Female</td>\n      <td>72-11-18</td>\n    </tr>\n  </tbody>\n</table>\n<p>3933 rows × 6 columns</p>\n</div>"
     },
     "metadata": {},
     "execution_count": 7
    }
   ],
   "source": [
    "personal_data.head()\n",
    "personal_data.set_index(personal_data.columns.to_list()[0])\n",
    "personal_data.rename(columns={personal_data.columns.to_list()[0]: \"Id\"})"
   ]
  },
  {
   "cell_type": "code",
   "execution_count": 8,
   "metadata": {},
   "outputs": [
    {
     "output_type": "execute_result",
     "data": {
      "text/plain": [
       "        Id             name  \\\n",
       "0        0    Joel Martinez   \n",
       "1        1    Mike Delacruz   \n",
       "2        2        Tony Kell   \n",
       "3        3  Clarence Archer   \n",
       "4        4   Bradford Hayek   \n",
       "...    ...              ...   \n",
       "3978  3978     Bobby Wetzel   \n",
       "3979  3979   John Kempinski   \n",
       "3980  3980     John Burkman   \n",
       "3981  3981       James Lear   \n",
       "3982  3982      James Deese   \n",
       "\n",
       "                                                address  kurtosis_oxygen  \\\n",
       "0       2014 Fitzpatrick Springs\\r\\nJimmybury, MI 83417         9.672970   \n",
       "1                    PSC 6835, Box 2308\\r\\nAPO AP 84084         8.175772   \n",
       "2     847 Martin Locks Apt. 982\\r\\nEast Lauratown, N...         4.498688   \n",
       "3     6376 Christine Hollow Suite 091\\r\\nDunnshire, ...         0.531520   \n",
       "4       7115 Snyder Key Apt. 041\\r\\nWest Tina, DE 78012         3.257489   \n",
       "...                                                 ...              ...   \n",
       "3978  1653 Wilson Isle Apt. 318\\r\\nLake Nathancheste...        11.025123   \n",
       "3979       2845 Carroll Shores\\r\\nEdwardburgh, HI 63247         5.377667   \n",
       "3980       79921 Colleen Shoals\\r\\nColinburgh, TN 26421         6.386286   \n",
       "3981        32853 Aaron Station\\r\\nJonchester, OH 56028         8.066678   \n",
       "3982  4795 Martinez Vista Apt. 520\\r\\nGriffithshire,...         7.847605   \n",
       "\n",
       "             occupation          marital-status pregnant  education-num  \\\n",
       "0      Transport-moving      Married-civ-spouse        f            NaN   \n",
       "1         Other-service           Never-married        f            9.0   \n",
       "2        Prof-specialty                Divorced        f           11.0   \n",
       "3                 Sales      Married-civ-spouse        f           10.0   \n",
       "4          Craft-repair                Divorced        f            9.0   \n",
       "...                 ...                     ...      ...            ...   \n",
       "3978      Other_service           Never-married        f            9.0   \n",
       "3979     Prof-specialty   Married-spouse-absent        f           16.0   \n",
       "3980       Adm-clerical           Never-married        f           10.0   \n",
       "3981   Transport-moving      Married-civ-spouse        F            9.0   \n",
       "3982      Other-service      Married-civ-spouse        f            NaN   \n",
       "\n",
       "        relationship  std_oxygen  ...    fnlwgt  class  income  \\\n",
       "0            Husband   14.678821  ...  201410.0    0.0    >50K   \n",
       "1          Own-child   17.521978  ...   85625.0    0.0   <=50K   \n",
       "2      Not-in-family   40.829288  ...  211022.0    0.0    >50K   \n",
       "3            Husband   77.672185  ...  291147.0    0.0   <=50K   \n",
       "4      Not-in-family   49.288231  ...  149118.0    0.0   <=50K   \n",
       "...              ...         ...  ...       ...    ...     ...   \n",
       "3978       Own-child   14.810566  ...   97963.0    0.0   <=50K   \n",
       "3979   Not-in-family   30.155313  ...   57600.0    1.0   <=50K   \n",
       "3980       Own-child   20.626620  ...  104443.0    0.0   <=50K   \n",
       "3981         Husband   15.118383  ...  178551.0    0.0   <=50K   \n",
       "3982         Husband   15.804987  ...  113870.0    0.0   <=50K   \n",
       "\n",
       "                                           medical_info  native-country  \\\n",
       "0     {'mean_glucose':'117.4375','std_glucose':'47.6...     Philippines   \n",
       "1     {'mean_glucose':'132.8984375','std_glucose':'4...   United-States   \n",
       "2     {'mean_glucose':'123.546875','std_glucose':'69...   United-States   \n",
       "3     {'mean_glucose':'136.0625','std_glucose':'47.1...   United-States   \n",
       "4     {'mean_glucose':'116.546875','std_glucose':'45...   United-States   \n",
       "...                                                 ...             ...   \n",
       "3978  {'mean_glucose':'132.71875','std_glucose':'51....   United-States   \n",
       "3979  {'mean_glucose':'100.6484375','std_glucose':'4...               ?   \n",
       "3980  {'mean_glucose':'-10937.5','std_glucose':'49.9...   United-States   \n",
       "3981  {'mean_glucose':'107.9765625','std_glucose':'4...   United-States   \n",
       "3982  {'mean_glucose':'115.2265625','std_glucose':'3...               ?   \n",
       "\n",
       "     capital-loss mean_oxygen hours-per-week    race  workclass  \n",
       "0          1977.0    2.445652           45.0   White    Private  \n",
       "1             0.0    2.633779           22.0   White    Private  \n",
       "2             0.0    9.512542           40.0   White    Private  \n",
       "3             0.0   60.436455           50.0   White    Private  \n",
       "4             0.0   14.475753           40.0   White    Private  \n",
       "...           ...         ...            ...     ...        ...  \n",
       "3978          0.0    2.297659           30.0   White    Private  \n",
       "3979          0.0    6.324415           40.0   White    Private  \n",
       "3980          0.0    4.081104           40.0   White    Private  \n",
       "3981          0.0    2.784281           40.0   White    Private  \n",
       "3982          0.0    3.100334           40.0   White    Private  \n",
       "\n",
       "[3983 rows x 23 columns]"
      ],
      "text/html": "<div>\n<style scoped>\n    .dataframe tbody tr th:only-of-type {\n        vertical-align: middle;\n    }\n\n    .dataframe tbody tr th {\n        vertical-align: top;\n    }\n\n    .dataframe thead th {\n        text-align: right;\n    }\n</style>\n<table border=\"1\" class=\"dataframe\">\n  <thead>\n    <tr style=\"text-align: right;\">\n      <th></th>\n      <th>Id</th>\n      <th>name</th>\n      <th>address</th>\n      <th>kurtosis_oxygen</th>\n      <th>occupation</th>\n      <th>marital-status</th>\n      <th>pregnant</th>\n      <th>education-num</th>\n      <th>relationship</th>\n      <th>std_oxygen</th>\n      <th>...</th>\n      <th>fnlwgt</th>\n      <th>class</th>\n      <th>income</th>\n      <th>medical_info</th>\n      <th>native-country</th>\n      <th>capital-loss</th>\n      <th>mean_oxygen</th>\n      <th>hours-per-week</th>\n      <th>race</th>\n      <th>workclass</th>\n    </tr>\n  </thead>\n  <tbody>\n    <tr>\n      <th>0</th>\n      <td>0</td>\n      <td>Joel Martinez</td>\n      <td>2014 Fitzpatrick Springs\\r\\nJimmybury, MI 83417</td>\n      <td>9.672970</td>\n      <td>Transport-moving</td>\n      <td>Married-civ-spouse</td>\n      <td>f</td>\n      <td>NaN</td>\n      <td>Husband</td>\n      <td>14.678821</td>\n      <td>...</td>\n      <td>201410.0</td>\n      <td>0.0</td>\n      <td>&gt;50K</td>\n      <td>{'mean_glucose':'117.4375','std_glucose':'47.6...</td>\n      <td>Philippines</td>\n      <td>1977.0</td>\n      <td>2.445652</td>\n      <td>45.0</td>\n      <td>White</td>\n      <td>Private</td>\n    </tr>\n    <tr>\n      <th>1</th>\n      <td>1</td>\n      <td>Mike Delacruz</td>\n      <td>PSC 6835, Box 2308\\r\\nAPO AP 84084</td>\n      <td>8.175772</td>\n      <td>Other-service</td>\n      <td>Never-married</td>\n      <td>f</td>\n      <td>9.0</td>\n      <td>Own-child</td>\n      <td>17.521978</td>\n      <td>...</td>\n      <td>85625.0</td>\n      <td>0.0</td>\n      <td>&lt;=50K</td>\n      <td>{'mean_glucose':'132.8984375','std_glucose':'4...</td>\n      <td>United-States</td>\n      <td>0.0</td>\n      <td>2.633779</td>\n      <td>22.0</td>\n      <td>White</td>\n      <td>Private</td>\n    </tr>\n    <tr>\n      <th>2</th>\n      <td>2</td>\n      <td>Tony Kell</td>\n      <td>847 Martin Locks Apt. 982\\r\\nEast Lauratown, N...</td>\n      <td>4.498688</td>\n      <td>Prof-specialty</td>\n      <td>Divorced</td>\n      <td>f</td>\n      <td>11.0</td>\n      <td>Not-in-family</td>\n      <td>40.829288</td>\n      <td>...</td>\n      <td>211022.0</td>\n      <td>0.0</td>\n      <td>&gt;50K</td>\n      <td>{'mean_glucose':'123.546875','std_glucose':'69...</td>\n      <td>United-States</td>\n      <td>0.0</td>\n      <td>9.512542</td>\n      <td>40.0</td>\n      <td>White</td>\n      <td>Private</td>\n    </tr>\n    <tr>\n      <th>3</th>\n      <td>3</td>\n      <td>Clarence Archer</td>\n      <td>6376 Christine Hollow Suite 091\\r\\nDunnshire, ...</td>\n      <td>0.531520</td>\n      <td>Sales</td>\n      <td>Married-civ-spouse</td>\n      <td>f</td>\n      <td>10.0</td>\n      <td>Husband</td>\n      <td>77.672185</td>\n      <td>...</td>\n      <td>291147.0</td>\n      <td>0.0</td>\n      <td>&lt;=50K</td>\n      <td>{'mean_glucose':'136.0625','std_glucose':'47.1...</td>\n      <td>United-States</td>\n      <td>0.0</td>\n      <td>60.436455</td>\n      <td>50.0</td>\n      <td>White</td>\n      <td>Private</td>\n    </tr>\n    <tr>\n      <th>4</th>\n      <td>4</td>\n      <td>Bradford Hayek</td>\n      <td>7115 Snyder Key Apt. 041\\r\\nWest Tina, DE 78012</td>\n      <td>3.257489</td>\n      <td>Craft-repair</td>\n      <td>Divorced</td>\n      <td>f</td>\n      <td>9.0</td>\n      <td>Not-in-family</td>\n      <td>49.288231</td>\n      <td>...</td>\n      <td>149118.0</td>\n      <td>0.0</td>\n      <td>&lt;=50K</td>\n      <td>{'mean_glucose':'116.546875','std_glucose':'45...</td>\n      <td>United-States</td>\n      <td>0.0</td>\n      <td>14.475753</td>\n      <td>40.0</td>\n      <td>White</td>\n      <td>Private</td>\n    </tr>\n    <tr>\n      <th>...</th>\n      <td>...</td>\n      <td>...</td>\n      <td>...</td>\n      <td>...</td>\n      <td>...</td>\n      <td>...</td>\n      <td>...</td>\n      <td>...</td>\n      <td>...</td>\n      <td>...</td>\n      <td>...</td>\n      <td>...</td>\n      <td>...</td>\n      <td>...</td>\n      <td>...</td>\n      <td>...</td>\n      <td>...</td>\n      <td>...</td>\n      <td>...</td>\n      <td>...</td>\n      <td>...</td>\n    </tr>\n    <tr>\n      <th>3978</th>\n      <td>3978</td>\n      <td>Bobby Wetzel</td>\n      <td>1653 Wilson Isle Apt. 318\\r\\nLake Nathancheste...</td>\n      <td>11.025123</td>\n      <td>Other_service</td>\n      <td>Never-married</td>\n      <td>f</td>\n      <td>9.0</td>\n      <td>Own-child</td>\n      <td>14.810566</td>\n      <td>...</td>\n      <td>97963.0</td>\n      <td>0.0</td>\n      <td>&lt;=50K</td>\n      <td>{'mean_glucose':'132.71875','std_glucose':'51....</td>\n      <td>United-States</td>\n      <td>0.0</td>\n      <td>2.297659</td>\n      <td>30.0</td>\n      <td>White</td>\n      <td>Private</td>\n    </tr>\n    <tr>\n      <th>3979</th>\n      <td>3979</td>\n      <td>John Kempinski</td>\n      <td>2845 Carroll Shores\\r\\nEdwardburgh, HI 63247</td>\n      <td>5.377667</td>\n      <td>Prof-specialty</td>\n      <td>Married-spouse-absent</td>\n      <td>f</td>\n      <td>16.0</td>\n      <td>Not-in-family</td>\n      <td>30.155313</td>\n      <td>...</td>\n      <td>57600.0</td>\n      <td>1.0</td>\n      <td>&lt;=50K</td>\n      <td>{'mean_glucose':'100.6484375','std_glucose':'4...</td>\n      <td>?</td>\n      <td>0.0</td>\n      <td>6.324415</td>\n      <td>40.0</td>\n      <td>White</td>\n      <td>Private</td>\n    </tr>\n    <tr>\n      <th>3980</th>\n      <td>3980</td>\n      <td>John Burkman</td>\n      <td>79921 Colleen Shoals\\r\\nColinburgh, TN 26421</td>\n      <td>6.386286</td>\n      <td>Adm-clerical</td>\n      <td>Never-married</td>\n      <td>f</td>\n      <td>10.0</td>\n      <td>Own-child</td>\n      <td>20.626620</td>\n      <td>...</td>\n      <td>104443.0</td>\n      <td>0.0</td>\n      <td>&lt;=50K</td>\n      <td>{'mean_glucose':'-10937.5','std_glucose':'49.9...</td>\n      <td>United-States</td>\n      <td>0.0</td>\n      <td>4.081104</td>\n      <td>40.0</td>\n      <td>White</td>\n      <td>Private</td>\n    </tr>\n    <tr>\n      <th>3981</th>\n      <td>3981</td>\n      <td>James Lear</td>\n      <td>32853 Aaron Station\\r\\nJonchester, OH 56028</td>\n      <td>8.066678</td>\n      <td>Transport-moving</td>\n      <td>Married-civ-spouse</td>\n      <td>F</td>\n      <td>9.0</td>\n      <td>Husband</td>\n      <td>15.118383</td>\n      <td>...</td>\n      <td>178551.0</td>\n      <td>0.0</td>\n      <td>&lt;=50K</td>\n      <td>{'mean_glucose':'107.9765625','std_glucose':'4...</td>\n      <td>United-States</td>\n      <td>0.0</td>\n      <td>2.784281</td>\n      <td>40.0</td>\n      <td>White</td>\n      <td>Private</td>\n    </tr>\n    <tr>\n      <th>3982</th>\n      <td>3982</td>\n      <td>James Deese</td>\n      <td>4795 Martinez Vista Apt. 520\\r\\nGriffithshire,...</td>\n      <td>7.847605</td>\n      <td>Other-service</td>\n      <td>Married-civ-spouse</td>\n      <td>f</td>\n      <td>NaN</td>\n      <td>Husband</td>\n      <td>15.804987</td>\n      <td>...</td>\n      <td>113870.0</td>\n      <td>0.0</td>\n      <td>&lt;=50K</td>\n      <td>{'mean_glucose':'115.2265625','std_glucose':'3...</td>\n      <td>?</td>\n      <td>0.0</td>\n      <td>3.100334</td>\n      <td>40.0</td>\n      <td>White</td>\n      <td>Private</td>\n    </tr>\n  </tbody>\n</table>\n<p>3983 rows × 23 columns</p>\n</div>"
     },
     "metadata": {},
     "execution_count": 8
    }
   ],
   "source": [
    "other_data.head()\n",
    "other_data.set_index(other_data.columns.to_list()[0])\n",
    "other_data.rename(columns={other_data.columns.to_list()[0]: \"Id\"})"
   ]
  }
 ]
}