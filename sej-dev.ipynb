{
 "metadata": {
  "language_info": {
   "codemirror_mode": {
    "name": "ipython",
    "version": 3
   },
   "file_extension": ".py",
   "mimetype": "text/x-python",
   "name": "python",
   "nbconvert_exporter": "python",
   "pygments_lexer": "ipython3",
   "version": "3.8.6-final"
  },
  "orig_nbformat": 2,
  "kernelspec": {
   "name": "Python 3.8.6 64-bit",
   "display_name": "Python 3.8.6 64-bit",
   "metadata": {
    "interpreter": {
     "hash": "2db524e06e9f5f4ffedc911c917cb75e12dbc923643829bf417064a77eb14d37"
    }
   }
  }
 },
 "nbformat": 4,
 "nbformat_minor": 2,
 "cells": [
  {
   "source": [],
   "cell_type": "markdown",
   "metadata": {}
  },
  {
   "cell_type": "code",
   "execution_count": null,
   "metadata": {},
   "outputs": [],
   "source": [
    "import matplotlib.pyplot as plt\n",
    "import pylab as py\n",
    "import seaborn as sns\n",
    "import pandas as pd\n",
    "import numpy as np\n",
    "import statsmodels.api as sm\n",
    "import statsmodels.stats as sm_stats\n",
    "import statsmodels.stats.api as sms\n",
    "import scipy.stats as stats\n",
    "from sklearn import preprocessing\n",
    "from numpy.random import seed\n",
    "from numpy.random import rand\n",
    "from numpy.random import randn\n",
    "from numpy import mean\n",
    "from numpy import var\n",
    "from math import sqrt\n",
    "import re\n",
    "import json\n",
    "\n",
    "from pandasgui import show\n"
   ]
  },
  {
   "cell_type": "code",
   "execution_count": null,
   "metadata": {},
   "outputs": [],
   "source": [
    "personal_data = pd.read_csv(\"Dataset/personal_train.csv\")\n",
    "other_data = pd.read_csv(\"Dataset/other_train.csv\")"
   ]
  },
  {
   "source": [
    "## Základné informácie o datasetoch\n",
    "Dataset personal_data:\n",
    "* Veľkosť: 3933 záznamov\n",
    "* Počet stĺpcov: 6\n",
    "* Typy stĺpcov sú uvedené nižsie(získané pomocou dataset.info())\n",
    "* **Tento dataset néma žiadne duplicitné či chýbajúce dáta**\n",
    "* Dôležité štatistické atribúty:\n",
    "*    * Vek(age)\n",
    "*    * Pohlavie(sex)\n",
    "\n",
    "Vlastnosti štatistických atribútov uvedené nižšie (získané pomocou dataset\\['atribute'\\].describe())\n",
    "\n",
    "Dataset personal_data:\n",
    "* Veľkosť: 3983 záznamov\n",
    "* Počet stĺpcov: 23\n",
    "* Typy stĺpcov sú uvedené nižsie(získané pomocou dataset.info())\n",
    "* **Tento dataset obsahuje značné množstvo duplicitných či chýbajúcich dát**\n",
    "* Dôležité štatistické atribúty:\n",
    "*    * Krajina pôvodu(native-country)\n",
    "*    * Rasa(race)\n",
    "*    * Vzťahy(relationship)\n",
    "*    * Priemerné O2 (mean_oxygen)\n",
    "*    * Tehotenstvo (pregnant)\n",
    "\n",
    "Vlastnosti štatistických atribútov uvedené nižšie (získané pomocou dataset\\['atribute'\\].describe())\n",
    "\n",
    "Obsahom datasetu other_data je aj atribút medical_info ktorý obsahuje reťazec podobný formátu JSON s ďaľšími atribútmi ktoré môžu byť štatisticky doležité a preto bol tento reťazec extraktovaný a v spojení s atribútom name z datasetu other_data pridaný do samostatného datasetu medical_info_dataset. \n",
    "\n",
    "*Poznámka: Boli pridávané iba záznamy pre jedičné hodnoty atribútu name a s nenulovým atribútom medical_info*\n",
    "\n",
    "Dataset medical_info_dataset:\n",
    "* Veľkosť: 3927 záznamov\n",
    "* Počet stĺpcov: 5\n",
    "* Typy stĺpcov sú uvedené nižsie(získané pomocou dataset.info())\n",
    "\n",
    "Všetky atribúty tohto datasetu sú štatisticky dôležité a ich vlastnosti sú uvedené nižsie (získané pomocou dataset\\['atribute'\\].describe())\n",
    "\n",
    "Všetky vyššie spomenuté datasety sme spojili do jedného datasetu pre možnosť jednoduchšie pracovať so všetkými dôležitými dátami\n",
    "\n",
    "Dataset usefull_dataset:\n",
    "* Veľkosť: 3933 záznamov\n",
    "* Počet stĺpcov: 29\n",
    "* Typy stĺpcov sú uvedené nižsie(získané pomocou dataset.info())"
   ],
   "cell_type": "markdown",
   "metadata": {}
  },
  {
   "cell_type": "code",
   "execution_count": null,
   "metadata": {},
   "outputs": [],
   "source": [
    "personal_data.set_index(personal_data.columns.to_list()[0])\n",
    "personal_data.rename(columns={personal_data.columns.to_list()[0]: \"Id\"}, inplace=True)"
   ]
  },
  {
   "cell_type": "code",
   "execution_count": null,
   "metadata": {},
   "outputs": [],
   "source": [
    "personal_data.head()"
   ]
  },
  {
   "cell_type": "code",
   "execution_count": null,
   "metadata": {},
   "outputs": [],
   "source": [
    "personal_data.info()"
   ]
  },
  {
   "cell_type": "code",
   "execution_count": null,
   "metadata": {},
   "outputs": [],
   "source": [
    "personal_data['age'].describe()"
   ]
  },
  {
   "cell_type": "code",
   "execution_count": null,
   "metadata": {},
   "outputs": [],
   "source": [
    "personal_data['sex'].describe()"
   ]
  },
  {
   "cell_type": "code",
   "execution_count": null,
   "metadata": {},
   "outputs": [],
   "source": [
    "other_data.set_index(other_data.columns.to_list()[0])\n",
    "other_data.rename(columns={other_data.columns.to_list()[0]: \"Id\"}, inplace=True)"
   ]
  },
  {
   "cell_type": "code",
   "execution_count": null,
   "metadata": {},
   "outputs": [],
   "source": [
    "other_data.head()"
   ]
  },
  {
   "cell_type": "code",
   "execution_count": null,
   "metadata": {},
   "outputs": [],
   "source": [
    "other_data.info()"
   ]
  },
  {
   "cell_type": "code",
   "execution_count": null,
   "metadata": {},
   "outputs": [],
   "source": [
    "other_data['native-country'].describe()"
   ]
  },
  {
   "cell_type": "code",
   "execution_count": null,
   "metadata": {},
   "outputs": [],
   "source": [
    "other_data['race'].describe()"
   ]
  },
  {
   "cell_type": "code",
   "execution_count": null,
   "metadata": {},
   "outputs": [],
   "source": [
    "other_data['relationship'].describe()"
   ]
  },
  {
   "cell_type": "code",
   "execution_count": null,
   "metadata": {},
   "outputs": [],
   "source": [
    "other_data['mean_oxygen'].describe()"
   ]
  },
  {
   "cell_type": "code",
   "execution_count": null,
   "metadata": {},
   "outputs": [],
   "source": [
    "other_data['pregnant'].describe()"
   ]
  },
  {
   "cell_type": "code",
   "execution_count": null,
   "metadata": {},
   "outputs": [],
   "source": [
    "# Create subset with only unique names\n",
    "unique_names_dataset = other_data.drop_duplicates('name')\n",
    "unique_names_dataset.head()"
   ]
  },
  {
   "cell_type": "code",
   "execution_count": null,
   "metadata": {
    "tags": []
   },
   "outputs": [],
   "source": [
    "# create a dataset from 'medical_info' attribute\n",
    "medical_data_objects = []\n",
    "for index, record in unique_names_dataset.iterrows():\n",
    "    if isinstance(record['medical_info'], float):\n",
    "        continue\n",
    "    medical_object = json.loads(record['medical_info'].replace(\"\\'\", '\\\"').replace(':\\\"',':').replace('\\\",',',').replace('\\\"}','}'))\n",
    "    medical_object['name'] = record['name']\n",
    "    medical_data_objects.append(medical_object)\n",
    "medical_info_dataset = pd.DataFrame(medical_data_objects)\n",
    "medical_info_dataset.describe()\n"
   ]
  },
  {
   "cell_type": "code",
   "execution_count": null,
   "metadata": {},
   "outputs": [],
   "source": [
    "medical_info_dataset.info()"
   ]
  },
  {
   "cell_type": "code",
   "execution_count": null,
   "metadata": {},
   "outputs": [],
   "source": [
    "sns.distplot(medical_info_dataset[(medical_info_dataset['mean_glucose'] > 0) & (medical_info_dataset['mean_glucose'] < 300)].mean_glucose)"
   ]
  },
  {
   "cell_type": "code",
   "execution_count": null,
   "metadata": {},
   "outputs": [],
   "source": [
    "# names in personal_data and unique_names_dataset are equal on equal positions\n",
    "personal_data['name'].isin(unique_names_dataset['name']).value_counts()"
   ]
  },
  {
   "cell_type": "code",
   "execution_count": null,
   "metadata": {},
   "outputs": [],
   "source": [
    "# merge datasets to create single large dataset with usefull data so it's easier to create graphs and analysis\n",
    "merged_medical_info_dataset = unique_names_dataset.merge(medical_info_dataset, on=['name'], how='outer').drop('medical_info', axis='columns')\n",
    "usefull_dataset = personal_data.merge(merged_medical_info_dataset, on=['name', 'address'], how='outer').drop('Id_y', axis='columns')\n",
    "usefull_dataset.info()"
   ]
  },
  {
   "source": [
    "### Distribúcia veku podľa pohlavia"
   ],
   "cell_type": "markdown",
   "metadata": {}
  },
  {
   "cell_type": "code",
   "execution_count": null,
   "metadata": {},
   "outputs": [],
   "source": [
    "# create two subsets for records of Male and Female age\n",
    "male_age = usefull_dataset[(usefull_dataset['sex'] == \" Male\") & (usefull_dataset['age'] > 0)]\n",
    "female_age = usefull_dataset[(usefull_dataset['sex'] == \" Female\") & (usefull_dataset['age'] > 0)]"
   ]
  },
  {
   "cell_type": "code",
   "execution_count": null,
   "metadata": {},
   "outputs": [],
   "source": [
    "# compare distribution of age of male and female dataset\n",
    "sns.distplot(male_age['age'])\n",
    "sns.distplot(female_age['age'])\n",
    "usefull_dataset[usefull_dataset['age'] > 0].groupby(['sex'])['age'].describe()"
   ]
  },
  {
   "cell_type": "code",
   "execution_count": null,
   "metadata": {},
   "outputs": [],
   "source": [
    "# test whether male and female datasets are from distributions of equal variances\n",
    "age_sex_levene_test = stats.levene(male_age['age'], female_age['age'])\n",
    "print(age_sex_levene_test)\n",
    "\n",
    "# interpret\n",
    "alpha = 0.05\n",
    "if age_sex_levene_test.pvalue > alpha:\n",
    "    print('Equal variances (fail to reject H0)')\n",
    "else:\n",
    "    print('Another variances (reject H0)')"
   ]
  },
  {
   "cell_type": "code",
   "execution_count": null,
   "metadata": {},
   "outputs": [],
   "source": [
    "# test whether male and female datasets are from equal distributions\n",
    "age_sex_student_ttest, p = stats.ttest_ind(male_age['age'], female_age['age'])\n",
    "print('Statistics=%.3f, p=%.3f' % (age_sex_student_ttest, p))\n",
    "\n",
    "# interpret\n",
    "alpha = 0.05\n",
    "if p > alpha:\n",
    "    print('Same distributions (fail to reject H0)')\n",
    "else:\n",
    "    print('Different distributions (reject H0)')"
   ]
  },
  {
   "source": [
    "### Ditribúcia týždenných hodín podľa pohlavia"
   ],
   "cell_type": "markdown",
   "metadata": {}
  },
  {
   "cell_type": "code",
   "execution_count": null,
   "metadata": {},
   "outputs": [],
   "source": [
    "female_hours = usefull_dataset[(usefull_dataset['sex'] == \" Female\") & (usefull_dataset['hours-per-week'] > 0)]\n",
    "male_hours = usefull_dataset[(usefull_dataset['sex'] == \" Male\") & (usefull_dataset['hours-per-week'] > 0)]\n",
    "sns.distplot(male_hours['hours-per-week'])\n",
    "sns.distplot(female_hours['hours-per-week'])\n",
    "usefull_dataset[usefull_dataset['hours-per-week'] > 0].groupby(['sex'])['hours-per-week'].describe()"
   ]
  },
  {
   "cell_type": "code",
   "execution_count": null,
   "metadata": {},
   "outputs": [],
   "source": [
    "# test whether male and female datasets are from distributions of equal variances\n",
    "hours_sex_levene_test = stats.levene(male_hours['hours-per-week'], female_hours['hours-per-week'])\n",
    "print(hours_sex_levene_test)\n",
    "\n",
    "# interpret\n",
    "alpha = 0.05\n",
    "if hours_sex_levene_test.pvalue > alpha:\n",
    "    print('Equal variances (fail to reject H0)')\n",
    "else:\n",
    "    print('Another variances (reject H0)')"
   ]
  },
  {
   "cell_type": "code",
   "execution_count": null,
   "metadata": {},
   "outputs": [],
   "source": [
    "# test whether male and female datasets are from equal distributions\n",
    "hours_sex_student_ttest, p = stats.ttest_ind(male_hours['hours-per-week'], female_age['hours-per-week'])\n",
    "print('Statistics=%.3f, p=%.3f' % (hours_sex_student_ttest, p))\n",
    "\n",
    "# interpret\n",
    "alpha = 0.05\n",
    "if p > alpha:\n",
    "    print('Same distributions (fail to reject H0)')\n",
    "else:\n",
    "    print('Different distributions (reject H0)')"
   ]
  }
 ]
}