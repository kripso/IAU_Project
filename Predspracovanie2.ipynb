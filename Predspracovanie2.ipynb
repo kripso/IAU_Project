{
 "metadata": {
  "language_info": {
   "codemirror_mode": {
    "name": "ipython",
    "version": 3
   },
   "file_extension": ".py",
   "mimetype": "text/x-python",
   "name": "python",
   "nbconvert_exporter": "python",
   "pygments_lexer": "ipython3",
   "version": "3.8.6-final"
  },
  "orig_nbformat": 2,
  "kernelspec": {
   "name": "python3",
   "display_name": "Python 3.8.6 64-bit",
   "metadata": {
    "interpreter": {
     "hash": "2db524e06e9f5f4ffedc911c917cb75e12dbc923643829bf417064a77eb14d37"
    }
   }
  }
 },
 "nbformat": 4,
 "nbformat_minor": 2,
 "cells": [
  {
   "cell_type": "code",
   "execution_count": 1,
   "metadata": {},
   "outputs": [],
   "source": [
    "import matplotlib.pyplot as plt\n",
    "import pylab as py\n",
    "import seaborn as sns\n",
    "import pandas as pd\n",
    "import numpy as np\n",
    "import statsmodels.api as sm\n",
    "import statsmodels.stats as sm_stats\n",
    "import statsmodels.stats.api as sms\n",
    "import scipy.stats as stats\n",
    "from sklearn import preprocessing\n",
    "from numpy.random import seed\n",
    "from numpy.random import rand\n",
    "from numpy.random import randn\n",
    "from numpy import mean\n",
    "from numpy import var\n",
    "from math import sqrt\n",
    "import re\n",
    "import json"
   ]
  },
  {
   "cell_type": "code",
   "execution_count": 2,
   "metadata": {},
   "outputs": [],
   "source": [
    "personal_data = pd.read_csv(\"Dataset/personal_train.csv\")\n",
    "other_data = pd.read_csv(\"Dataset/other_train.csv\")"
   ]
  },
  {
   "cell_type": "code",
   "execution_count": 3,
   "metadata": {},
   "outputs": [],
   "source": [
    "if 'Unnamed: 0' in personal_data:\n",
    "    del personal_data['Unnamed: 0']\n",
    "if 'Unnamed: 0' in other_data:\n",
    "    del other_data['Unnamed: 0']"
   ]
  },
  {
   "cell_type": "code",
   "execution_count": 4,
   "metadata": {},
   "outputs": [
    {
     "output_type": "stream",
     "name": "stdout",
     "text": [
      "<class 'pandas.core.frame.DataFrame'>\nRangeIndex: 3933 entries, 0 to 3932\nData columns (total 5 columns):\n #   Column         Non-Null Count  Dtype \n---  ------         --------------  ----- \n 0   name           3933 non-null   object\n 1   address        3933 non-null   object\n 2   age            3933 non-null   int64 \n 3   sex            3933 non-null   object\n 4   date_of_birth  3933 non-null   object\ndtypes: int64(1), object(4)\nmemory usage: 153.8+ KB\n"
     ]
    }
   ],
   "source": [
    "personal_data.info()"
   ]
  },
  {
   "cell_type": "code",
   "execution_count": 5,
   "metadata": {},
   "outputs": [
    {
     "output_type": "stream",
     "name": "stdout",
     "text": [
      "<class 'pandas.core.frame.DataFrame'>\nRangeIndex: 3983 entries, 0 to 3982\nData columns (total 22 columns):\n #   Column           Non-Null Count  Dtype  \n---  ------           --------------  -----  \n 0   name             3983 non-null   object \n 1   address          3983 non-null   object \n 2   kurtosis_oxygen  3973 non-null   float64\n 3   occupation       3963 non-null   object \n 4   marital-status   3967 non-null   object \n 5   pregnant         3973 non-null   object \n 6   education-num    3572 non-null   float64\n 7   relationship     3970 non-null   object \n 8   std_oxygen       3966 non-null   float64\n 9   capital-gain     3970 non-null   float64\n 10  skewness_oxygen  3963 non-null   float64\n 11  education        3963 non-null   object \n 12  fnlwgt           3974 non-null   float64\n 13  class            3966 non-null   float64\n 14  income           3966 non-null   object \n 15  medical_info     3970 non-null   object \n 16  native-country   3973 non-null   object \n 17  capital-loss     3970 non-null   float64\n 18  mean_oxygen      3967 non-null   float64\n 19  hours-per-week   3970 non-null   float64\n 20  race             3719 non-null   object \n 21  workclass        3969 non-null   object \ndtypes: float64(10), object(12)\nmemory usage: 684.7+ KB\n"
     ]
    }
   ],
   "source": [
    "other_data.info()"
   ]
  },
  {
   "cell_type": "code",
   "execution_count": 6,
   "metadata": {},
   "outputs": [
    {
     "output_type": "stream",
     "name": "stdout",
     "text": [
      "<class 'pandas.core.frame.DataFrame'>\nInt64Index: 3933 entries, 0 to 3982\nData columns (total 22 columns):\n #   Column           Non-Null Count  Dtype  \n---  ------           --------------  -----  \n 0   name             3933 non-null   object \n 1   address          3933 non-null   object \n 2   kurtosis_oxygen  3929 non-null   float64\n 3   occupation       3926 non-null   object \n 4   marital-status   3925 non-null   object \n 5   pregnant         3929 non-null   object \n 6   education-num    3535 non-null   float64\n 7   relationship     3926 non-null   object \n 8   std_oxygen       3925 non-null   float64\n 9   capital-gain     3928 non-null   float64\n 10  skewness_oxygen  3925 non-null   float64\n 11  education        3926 non-null   object \n 12  fnlwgt           3928 non-null   float64\n 13  class            3923 non-null   float64\n 14  income           3927 non-null   object \n 15  medical_info     3933 non-null   object \n 16  native-country   3931 non-null   object \n 17  capital-loss     3927 non-null   float64\n 18  mean_oxygen      3927 non-null   float64\n 19  hours-per-week   3929 non-null   float64\n 20  race             3679 non-null   object \n 21  workclass        3925 non-null   object \ndtypes: float64(10), object(12)\nmemory usage: 706.7+ KB\n"
     ]
    }
   ],
   "source": [
    "unique_medical_name_dataset = other_data.dropna(subset=['medical_info']).drop_duplicates('name')\n",
    "unique_medical_name_dataset.info()"
   ]
  },
  {
   "cell_type": "code",
   "execution_count": 7,
   "metadata": {},
   "outputs": [
    {
     "output_type": "stream",
     "name": "stdout",
     "text": [
      "<class 'pandas.core.frame.DataFrame'>\nRangeIndex: 3933 entries, 0 to 3932\nData columns (total 5 columns):\n #   Column            Non-Null Count  Dtype  \n---  ------            --------------  -----  \n 0   mean_glucose      3933 non-null   float64\n 1   std_glucose       3933 non-null   float64\n 2   kurtosis_glucose  3933 non-null   float64\n 3   skewness_glucose  3933 non-null   float64\n 4   name              3933 non-null   object \ndtypes: float64(4), object(1)\nmemory usage: 153.8+ KB\n"
     ]
    }
   ],
   "source": [
    "# create a dataset from 'medical_info' attribute\n",
    "medical_data_objects = []\n",
    "for index, record in unique_medical_name_dataset.iterrows():\n",
    "    if isinstance(record['medical_info'], float):\n",
    "        continue\n",
    "    medical_object = json.loads(record['medical_info'].replace(\"\\'\", '\\\"').replace(':\\\"',':').replace('\\\",',',').replace('\\\"}','}'))\n",
    "    medical_object['name'] = record['name']\n",
    "    medical_data_objects.append(medical_object)\n",
    "medical_info_dataset = pd.DataFrame(medical_data_objects)\n",
    "medical_info_dataset.info()"
   ]
  },
  {
   "cell_type": "code",
   "execution_count": 8,
   "metadata": {},
   "outputs": [
    {
     "output_type": "stream",
     "name": "stdout",
     "text": [
      "<class 'pandas.core.frame.DataFrame'>\nInt64Index: 3933 entries, 0 to 3932\nData columns (total 28 columns):\n #   Column            Non-Null Count  Dtype  \n---  ------            --------------  -----  \n 0   name              3933 non-null   object \n 1   address           3933 non-null   object \n 2   age               3933 non-null   int64  \n 3   sex               3933 non-null   object \n 4   date_of_birth     3933 non-null   object \n 5   kurtosis_oxygen   3929 non-null   float64\n 6   occupation        3926 non-null   object \n 7   marital-status    3925 non-null   object \n 8   pregnant          3929 non-null   object \n 9   education-num     3535 non-null   float64\n 10  relationship      3926 non-null   object \n 11  std_oxygen        3925 non-null   float64\n 12  capital-gain      3928 non-null   float64\n 13  skewness_oxygen   3925 non-null   float64\n 14  education         3926 non-null   object \n 15  fnlwgt            3928 non-null   float64\n 16  class             3923 non-null   float64\n 17  income            3927 non-null   object \n 18  native-country    3931 non-null   object \n 19  capital-loss      3927 non-null   float64\n 20  mean_oxygen       3927 non-null   float64\n 21  hours-per-week    3929 non-null   float64\n 22  race              3679 non-null   object \n 23  workclass         3925 non-null   object \n 24  mean_glucose      3933 non-null   float64\n 25  std_glucose       3933 non-null   float64\n 26  kurtosis_glucose  3933 non-null   float64\n 27  skewness_glucose  3933 non-null   float64\ndtypes: float64(14), int64(1), object(13)\nmemory usage: 891.1+ KB\n"
     ]
    }
   ],
   "source": [
    "# merge datasets to create single large dataset with usefull data so it's easier to create graphs and analysis\n",
    "merged_medical_info_dataset = unique_medical_name_dataset.merge(medical_info_dataset, on=['name'], how='outer').drop('medical_info', axis='columns')\n",
    "usefull_dataset = personal_data.merge(merged_medical_info_dataset, on=['name', 'address'], how='outer')\n",
    "usefull_dataset.info()"
   ]
  },
  {
   "cell_type": "code",
   "execution_count": 9,
   "metadata": {},
   "outputs": [
    {
     "output_type": "execute_result",
     "data": {
      "text/plain": [
       "array([' Sales', ' Handlers-cleaners', ' Craft-repair', ' Adm-clerical',\n",
       "       ' Exec-managerial', ' Machine-op-inspct', ' Farming-fishing',\n",
       "       ' Other-service', ' Prof-specialty', ' Prof_specialty',\n",
       "       ' Protective-serv', ' Transport-moving', ' Machine_op_inspct',\n",
       "       ' Other_service', ' Adm_clerical', ' ?', ' Tech_support',\n",
       "       ' Exec_managerial', ' Priv-house-serv', ' Craft_repair',\n",
       "       ' Protective_serv', ' Tech-support', ' Handlers_cleaners', nan,\n",
       "       ' Transport_moving', ' Farming_fishing', ' Armed-Forces',\n",
       "       ' Priv_house_serv'], dtype=object)"
      ]
     },
     "metadata": {},
     "execution_count": 9
    }
   ],
   "source": [
    "usefull_dataset['occupation'].unique()"
   ]
  },
  {
   "cell_type": "code",
   "execution_count": 10,
   "metadata": {
    "tags": []
   },
   "outputs": [
    {
     "output_type": "execute_result",
     "data": {
      "text/plain": [
       "array(['Sales', 'Handlers-cleaners', 'Craft-repair', 'Adm-clerical',\n",
       "       'Exec-managerial', 'Machine-op-inspct', 'Farming-fishing',\n",
       "       'Other-service', 'Prof-specialty', 'Protective-serv',\n",
       "       'Transport-moving', 'unknown', 'Tech-support', 'Priv-house-serv',\n",
       "       'Armed-Forces'], dtype=object)"
      ]
     },
     "metadata": {},
     "execution_count": 10
    }
   ],
   "source": [
    "usefull_dataset['occupation'] = usefull_dataset['occupation'].map(lambda value: 'unknown' if type(value) is float else value.replace(' ','').replace('_', '-').replace('?', 'unknown'))\n",
    "usefull_dataset['occupation'].unique()"
   ]
  },
  {
   "cell_type": "code",
   "execution_count": 11,
   "metadata": {},
   "outputs": [],
   "source": [
    "occupation_categories = usefull_dataset['occupation'].unique()"
   ]
  },
  {
   "source": [
    "NAN to values"
   ],
   "cell_type": "markdown",
   "metadata": {}
  },
  {
   "cell_type": "code",
   "execution_count": 12,
   "metadata": {},
   "outputs": [],
   "source": [
    "from sklearn.pipeline import Pipeline\n",
    "from sklearn.impute import SimpleImputer\n",
    "from sklearn.preprocessing import StandardScaler, OneHotEncoder\n",
    "from sklearn.model_selection import train_test_split\n",
    "from sklearn.compose import ColumnTransformer"
   ]
  },
  {
   "cell_type": "code",
   "execution_count": 13,
   "metadata": {},
   "outputs": [],
   "source": [
    "test = usefull_dataset\n",
    "test = test[test['class'].isnull()==False]\n",
    "test.replace('?',np.NaN,inplace=True)"
   ]
  },
  {
   "cell_type": "code",
   "execution_count": 14,
   "metadata": {},
   "outputs": [
    {
     "output_type": "stream",
     "name": "stdout",
     "text": [
      "['age', 'kurtosis_oxygen', 'education-num', 'std_oxygen', 'capital-gain', 'skewness_oxygen', 'fnlwgt', 'class', 'capital-loss', 'mean_oxygen', 'hours-per-week', 'mean_glucose', 'std_glucose', 'kurtosis_glucose', 'skewness_glucose']\n['name', 'address', 'sex', 'date_of_birth', 'occupation', 'marital-status', 'pregnant', 'relationship', 'education', 'income', 'native-country', 'race', 'workclass']\n"
     ]
    }
   ],
   "source": [
    "numeric_features = test.select_dtypes(include=['int64', 'float64']).columns\n",
    "categorical_features = test.select_dtypes(include=['object']).columns\n",
    "\n",
    "print(numeric_features.tolist())\n",
    "print(categorical_features.tolist())"
   ]
  },
  {
   "cell_type": "code",
   "execution_count": 15,
   "metadata": {},
   "outputs": [
    {
     "output_type": "execute_result",
     "data": {
      "text/plain": [
       "     age kurtosis_oxygen education-num std_oxygen capital-gain  \\\n",
       "0     58         8.32891            10    18.4415            0   \n",
       "2     52         3.37664             9    48.6771            0   \n",
       "3     64         4.26449            10    34.3017            0   \n",
       "4     66          7.6418            10    22.9657            0   \n",
       "5     64        0.263897             9    75.4896            0   \n",
       "...   ..             ...           ...        ...          ...   \n",
       "3928  45         7.81027            10    20.8528            0   \n",
       "3929  48         12.5741            10    12.5457            0   \n",
       "3930  83         2.04191             9    62.0302         4386   \n",
       "3931  49         10.2313            10    17.9531            0   \n",
       "3932  46         8.40507             8    21.1929            0   \n",
       "\n",
       "     skewness_oxygen  fnlwgt class capital-loss mean_oxygen  ...  \\\n",
       "0            78.6751  109570     0            0     2.79515  ...   \n",
       "2            10.2908  188064     1            0     14.7299  ...   \n",
       "3            17.8685  111128     0            0     8.44398  ...   \n",
       "4            62.8487  177277     0            0     3.63963  ...   \n",
       "5          -0.848741  191389     1            0     111.107  ...   \n",
       "...              ...     ...   ...          ...         ...  ...   \n",
       "3928         67.0404  116338     0          653     3.06187  ...   \n",
       "3929         68.4768  179580     1         1762     1.67809  ...   \n",
       "3930         2.66409  133219     1            0     27.6706  ...   \n",
       "3931         114.954  160893     0            0     2.30686  ...   \n",
       "3932         76.1877  693066     0            0     3.09197  ...   \n",
       "\n",
       "     date_of_birth      occupation       marital-status pregnant  \\\n",
       "0       18/01/1961           Sales            Separated        f   \n",
       "2       1967-04-18    Craft-repair   Married-civ-spouse        f   \n",
       "3         55-09-04    Craft-repair   Married-civ-spouse        f   \n",
       "4       1952-12-05    Craft-repair        Never-married        f   \n",
       "5       1955-07-05    Adm-clerical             Divorced        f   \n",
       "...            ...             ...                  ...      ...   \n",
       "3928    1974-04-16  Prof-specialty            Separated        f   \n",
       "3929    1971-10-18         unknown        Never-married        f   \n",
       "3930      36-04-15   Other-service   Married-civ-spouse        f   \n",
       "3931    1970-05-06   Other-service   Married-civ-spouse        f   \n",
       "3932      72-11-18   Other-service        Never-married        f   \n",
       "\n",
       "        relationship      education  income  native-country    race  \\\n",
       "0          Unmarried   Some-college   <=50K   United-States   White   \n",
       "2            Husband        HS-grad   <=50K          Canada   White   \n",
       "3            Husband   Some-college   <=50K   United-States   White   \n",
       "4      Not-in-family   Some-college   <=50K   United-States   White   \n",
       "5          Unmarried        HS-grad   <=50K   United-States   White   \n",
       "...              ...            ...     ...             ...     ...   \n",
       "3928       Unmarried        HS-grad   <=50K   United-States   White   \n",
       "3929         Husband   Some-college   <=50K   United-States   White   \n",
       "3930         Husband        HS-grad    >50K   United-States   Black   \n",
       "3931            Wife   Some-college   <=50K   United-States   White   \n",
       "3932       Own-child           12th   <=50K   United-States   White   \n",
       "\n",
       "              workclass  \n",
       "0               Private  \n",
       "2               Private  \n",
       "3               Private  \n",
       "4      Self-emp-not-inc  \n",
       "5             Local-gov  \n",
       "...                 ...  \n",
       "3928            Private  \n",
       "3929            Private  \n",
       "3930            Private  \n",
       "3931            Private  \n",
       "3932            Private  \n",
       "\n",
       "[3923 rows x 28 columns]"
      ],
      "text/html": "<div>\n<style scoped>\n    .dataframe tbody tr th:only-of-type {\n        vertical-align: middle;\n    }\n\n    .dataframe tbody tr th {\n        vertical-align: top;\n    }\n\n    .dataframe thead th {\n        text-align: right;\n    }\n</style>\n<table border=\"1\" class=\"dataframe\">\n  <thead>\n    <tr style=\"text-align: right;\">\n      <th></th>\n      <th>age</th>\n      <th>kurtosis_oxygen</th>\n      <th>education-num</th>\n      <th>std_oxygen</th>\n      <th>capital-gain</th>\n      <th>skewness_oxygen</th>\n      <th>fnlwgt</th>\n      <th>class</th>\n      <th>capital-loss</th>\n      <th>mean_oxygen</th>\n      <th>...</th>\n      <th>date_of_birth</th>\n      <th>occupation</th>\n      <th>marital-status</th>\n      <th>pregnant</th>\n      <th>relationship</th>\n      <th>education</th>\n      <th>income</th>\n      <th>native-country</th>\n      <th>race</th>\n      <th>workclass</th>\n    </tr>\n  </thead>\n  <tbody>\n    <tr>\n      <th>0</th>\n      <td>58</td>\n      <td>8.32891</td>\n      <td>10</td>\n      <td>18.4415</td>\n      <td>0</td>\n      <td>78.6751</td>\n      <td>109570</td>\n      <td>0</td>\n      <td>0</td>\n      <td>2.79515</td>\n      <td>...</td>\n      <td>18/01/1961</td>\n      <td>Sales</td>\n      <td>Separated</td>\n      <td>f</td>\n      <td>Unmarried</td>\n      <td>Some-college</td>\n      <td>&lt;=50K</td>\n      <td>United-States</td>\n      <td>White</td>\n      <td>Private</td>\n    </tr>\n    <tr>\n      <th>2</th>\n      <td>52</td>\n      <td>3.37664</td>\n      <td>9</td>\n      <td>48.6771</td>\n      <td>0</td>\n      <td>10.2908</td>\n      <td>188064</td>\n      <td>1</td>\n      <td>0</td>\n      <td>14.7299</td>\n      <td>...</td>\n      <td>1967-04-18</td>\n      <td>Craft-repair</td>\n      <td>Married-civ-spouse</td>\n      <td>f</td>\n      <td>Husband</td>\n      <td>HS-grad</td>\n      <td>&lt;=50K</td>\n      <td>Canada</td>\n      <td>White</td>\n      <td>Private</td>\n    </tr>\n    <tr>\n      <th>3</th>\n      <td>64</td>\n      <td>4.26449</td>\n      <td>10</td>\n      <td>34.3017</td>\n      <td>0</td>\n      <td>17.8685</td>\n      <td>111128</td>\n      <td>0</td>\n      <td>0</td>\n      <td>8.44398</td>\n      <td>...</td>\n      <td>55-09-04</td>\n      <td>Craft-repair</td>\n      <td>Married-civ-spouse</td>\n      <td>f</td>\n      <td>Husband</td>\n      <td>Some-college</td>\n      <td>&lt;=50K</td>\n      <td>United-States</td>\n      <td>White</td>\n      <td>Private</td>\n    </tr>\n    <tr>\n      <th>4</th>\n      <td>66</td>\n      <td>7.6418</td>\n      <td>10</td>\n      <td>22.9657</td>\n      <td>0</td>\n      <td>62.8487</td>\n      <td>177277</td>\n      <td>0</td>\n      <td>0</td>\n      <td>3.63963</td>\n      <td>...</td>\n      <td>1952-12-05</td>\n      <td>Craft-repair</td>\n      <td>Never-married</td>\n      <td>f</td>\n      <td>Not-in-family</td>\n      <td>Some-college</td>\n      <td>&lt;=50K</td>\n      <td>United-States</td>\n      <td>White</td>\n      <td>Self-emp-not-inc</td>\n    </tr>\n    <tr>\n      <th>5</th>\n      <td>64</td>\n      <td>0.263897</td>\n      <td>9</td>\n      <td>75.4896</td>\n      <td>0</td>\n      <td>-0.848741</td>\n      <td>191389</td>\n      <td>1</td>\n      <td>0</td>\n      <td>111.107</td>\n      <td>...</td>\n      <td>1955-07-05</td>\n      <td>Adm-clerical</td>\n      <td>Divorced</td>\n      <td>f</td>\n      <td>Unmarried</td>\n      <td>HS-grad</td>\n      <td>&lt;=50K</td>\n      <td>United-States</td>\n      <td>White</td>\n      <td>Local-gov</td>\n    </tr>\n    <tr>\n      <th>...</th>\n      <td>...</td>\n      <td>...</td>\n      <td>...</td>\n      <td>...</td>\n      <td>...</td>\n      <td>...</td>\n      <td>...</td>\n      <td>...</td>\n      <td>...</td>\n      <td>...</td>\n      <td>...</td>\n      <td>...</td>\n      <td>...</td>\n      <td>...</td>\n      <td>...</td>\n      <td>...</td>\n      <td>...</td>\n      <td>...</td>\n      <td>...</td>\n      <td>...</td>\n      <td>...</td>\n    </tr>\n    <tr>\n      <th>3928</th>\n      <td>45</td>\n      <td>7.81027</td>\n      <td>10</td>\n      <td>20.8528</td>\n      <td>0</td>\n      <td>67.0404</td>\n      <td>116338</td>\n      <td>0</td>\n      <td>653</td>\n      <td>3.06187</td>\n      <td>...</td>\n      <td>1974-04-16</td>\n      <td>Prof-specialty</td>\n      <td>Separated</td>\n      <td>f</td>\n      <td>Unmarried</td>\n      <td>HS-grad</td>\n      <td>&lt;=50K</td>\n      <td>United-States</td>\n      <td>White</td>\n      <td>Private</td>\n    </tr>\n    <tr>\n      <th>3929</th>\n      <td>48</td>\n      <td>12.5741</td>\n      <td>10</td>\n      <td>12.5457</td>\n      <td>0</td>\n      <td>68.4768</td>\n      <td>179580</td>\n      <td>1</td>\n      <td>1762</td>\n      <td>1.67809</td>\n      <td>...</td>\n      <td>1971-10-18</td>\n      <td>unknown</td>\n      <td>Never-married</td>\n      <td>f</td>\n      <td>Husband</td>\n      <td>Some-college</td>\n      <td>&lt;=50K</td>\n      <td>United-States</td>\n      <td>White</td>\n      <td>Private</td>\n    </tr>\n    <tr>\n      <th>3930</th>\n      <td>83</td>\n      <td>2.04191</td>\n      <td>9</td>\n      <td>62.0302</td>\n      <td>4386</td>\n      <td>2.66409</td>\n      <td>133219</td>\n      <td>1</td>\n      <td>0</td>\n      <td>27.6706</td>\n      <td>...</td>\n      <td>36-04-15</td>\n      <td>Other-service</td>\n      <td>Married-civ-spouse</td>\n      <td>f</td>\n      <td>Husband</td>\n      <td>HS-grad</td>\n      <td>&gt;50K</td>\n      <td>United-States</td>\n      <td>Black</td>\n      <td>Private</td>\n    </tr>\n    <tr>\n      <th>3931</th>\n      <td>49</td>\n      <td>10.2313</td>\n      <td>10</td>\n      <td>17.9531</td>\n      <td>0</td>\n      <td>114.954</td>\n      <td>160893</td>\n      <td>0</td>\n      <td>0</td>\n      <td>2.30686</td>\n      <td>...</td>\n      <td>1970-05-06</td>\n      <td>Other-service</td>\n      <td>Married-civ-spouse</td>\n      <td>f</td>\n      <td>Wife</td>\n      <td>Some-college</td>\n      <td>&lt;=50K</td>\n      <td>United-States</td>\n      <td>White</td>\n      <td>Private</td>\n    </tr>\n    <tr>\n      <th>3932</th>\n      <td>46</td>\n      <td>8.40507</td>\n      <td>8</td>\n      <td>21.1929</td>\n      <td>0</td>\n      <td>76.1877</td>\n      <td>693066</td>\n      <td>0</td>\n      <td>0</td>\n      <td>3.09197</td>\n      <td>...</td>\n      <td>72-11-18</td>\n      <td>Other-service</td>\n      <td>Never-married</td>\n      <td>f</td>\n      <td>Own-child</td>\n      <td>12th</td>\n      <td>&lt;=50K</td>\n      <td>United-States</td>\n      <td>White</td>\n      <td>Private</td>\n    </tr>\n  </tbody>\n</table>\n<p>3923 rows × 28 columns</p>\n</div>"
     },
     "metadata": {},
     "execution_count": 15
    }
   ],
   "source": [
    "num = Pipeline(steps=[('imputer', SimpleImputer(missing_values=np.nan,strategy='median'))])\n",
    "cat = Pipeline(steps=[('imputer', SimpleImputer(missing_values=np.nan,strategy='most_frequent'))])\n",
    "full = ColumnTransformer(\n",
    "    transformers=[\n",
    "        ('num',  num, numeric_features),\n",
    "        ('cat', cat, categorical_features)])\n",
    "\n",
    "# print(pd.DataFrame(full.fit_transform(test), columns=numeric_features.tolist() + categorical_features.tolist(),index=test.index))\n",
    "test2 = pd.DataFrame(full.fit_transform(test), columns=numeric_features.tolist() + categorical_features.tolist(),index=test.index)\n",
    "test2[test2.isnull().any(axis=1)]\n",
    "test2"
   ]
  },
  {
   "cell_type": "code",
   "execution_count": 16,
   "metadata": {},
   "outputs": [],
   "source": [
    "test3 = usefull_dataset\n",
    "test3 = test[test['class'].isnull()==False]\n",
    "test3.replace('?',np.NaN,inplace=True)"
   ]
  },
  {
   "cell_type": "code",
   "execution_count": 17,
   "metadata": {},
   "outputs": [
    {
     "output_type": "stream",
     "name": "stdout",
     "text": [
      "<class 'pandas.core.frame.DataFrame'>\nInt64Index: 3138 entries, 3135 to 2924\nData columns (total 27 columns):\n #   Column            Non-Null Count  Dtype  \n---  ------            --------------  -----  \n 0   name              3138 non-null   object \n 1   address           3138 non-null   object \n 2   age               3138 non-null   int64  \n 3   sex               3138 non-null   object \n 4   date_of_birth     3138 non-null   object \n 5   kurtosis_oxygen   3136 non-null   float64\n 6   occupation        3138 non-null   object \n 7   marital-status    3132 non-null   object \n 8   pregnant          3136 non-null   object \n 9   education-num     2822 non-null   float64\n 10  relationship      3134 non-null   object \n 11  std_oxygen        3133 non-null   float64\n 12  capital-gain      3135 non-null   float64\n 13  skewness_oxygen   3132 non-null   float64\n 14  education         3133 non-null   object \n 15  fnlwgt            3135 non-null   float64\n 16  income            3134 non-null   object \n 17  native-country    3136 non-null   object \n 18  capital-loss      3133 non-null   float64\n 19  mean_oxygen       3136 non-null   float64\n 20  hours-per-week    3137 non-null   float64\n 21  race              2929 non-null   object \n 22  workclass         3133 non-null   object \n 23  mean_glucose      3138 non-null   float64\n 24  std_glucose       3138 non-null   float64\n 25  kurtosis_glucose  3138 non-null   float64\n 26  skewness_glucose  3138 non-null   float64\ndtypes: float64(13), int64(1), object(13)\nmemory usage: 686.4+ KB\n<class 'pandas.core.frame.DataFrame'>\nInt64Index: 785 entries, 3924 to 3252\nData columns (total 27 columns):\n #   Column            Non-Null Count  Dtype  \n---  ------            --------------  -----  \n 0   name              785 non-null    object \n 1   address           785 non-null    object \n 2   age               785 non-null    int64  \n 3   sex               785 non-null    object \n 4   date_of_birth     785 non-null    object \n 5   kurtosis_oxygen   784 non-null    float64\n 6   occupation        785 non-null    object \n 7   marital-status    785 non-null    object \n 8   pregnant          784 non-null    object \n 9   education-num     704 non-null    float64\n 10  relationship      785 non-null    object \n 11  std_oxygen        784 non-null    float64\n 12  capital-gain      784 non-null    float64\n 13  skewness_oxygen   784 non-null    float64\n 14  education         785 non-null    object \n 15  fnlwgt            784 non-null    float64\n 16  income            783 non-null    object \n 17  native-country    785 non-null    object \n 18  capital-loss      785 non-null    float64\n 19  mean_oxygen       783 non-null    float64\n 20  hours-per-week    782 non-null    float64\n 21  race              742 non-null    object \n 22  workclass         784 non-null    object \n 23  mean_glucose      785 non-null    float64\n 24  std_glucose       785 non-null    float64\n 25  kurtosis_glucose  785 non-null    float64\n 26  skewness_glucose  785 non-null    float64\ndtypes: float64(13), int64(1), object(13)\nmemory usage: 171.7+ KB\nNone None\n3138 785\n"
     ]
    }
   ],
   "source": [
    "X = test3.drop('class', axis=1)\n",
    "y = test3['class']\n",
    "\n",
    "X_train, X_test, y_train, y_test = train_test_split(X, y, test_size=0.2)\n",
    "\n",
    "# print(X_train.info(),X_test.info())\n",
    "print(y_train.count(),y_test.count())"
   ]
  },
  {
   "cell_type": "code",
   "execution_count": 18,
   "metadata": {},
   "outputs": [],
   "source": [
    "numeric_transformer = Pipeline(steps=[\n",
    "    ('imputer', SimpleImputer(strategy='median')),\n",
    "    ('scaler', StandardScaler())])\n",
    "\n",
    "categorical_transformer = Pipeline(steps=[\n",
    "    ('imputer', SimpleImputer(strategy='constant')),\n",
    "    ('onehot', OneHotEncoder(handle_unknown='ignore'))])\n",
    "\n",
    "numeric_features = test3.select_dtypes(include=['int64', 'float64']).drop(['class'], axis=1).columns\n",
    "categorical_features = test3.select_dtypes(include=['object']).columns\n",
    "\n",
    "preprocessor = ColumnTransformer(\n",
    "    transformers=[\n",
    "        ('num', numeric_transformer, numeric_features),\n",
    "        ('cat', categorical_transformer, categorical_features)])"
   ]
  },
  {
   "cell_type": "code",
   "execution_count": 19,
   "metadata": {},
   "outputs": [],
   "source": [
    "from sklearn.ensemble import RandomForestClassifier\n",
    "rf = Pipeline(steps=[('preprocessor', preprocessor),\n",
    "                      ('classifier', RandomForestClassifier())])"
   ]
  },
  {
   "cell_type": "code",
   "execution_count": 20,
   "metadata": {},
   "outputs": [
    {
     "output_type": "execute_result",
     "data": {
      "text/plain": [
       "Pipeline(steps=[('preprocessor',\n",
       "                 ColumnTransformer(transformers=[('num',\n",
       "                                                  Pipeline(steps=[('imputer',\n",
       "                                                                   SimpleImputer(strategy='median')),\n",
       "                                                                  ('scaler',\n",
       "                                                                   StandardScaler())]),\n",
       "                                                  Index(['age', 'kurtosis_oxygen', 'education-num', 'std_oxygen', 'capital-gain',\n",
       "       'skewness_oxygen', 'fnlwgt', 'capital-loss', 'mean_oxygen',\n",
       "       'hours-per-week', 'mean_glucose', 'std_glucose', 'kurtosis_g...\n",
       "      dtype='object')),\n",
       "                                                 ('cat',\n",
       "                                                  Pipeline(steps=[('imputer',\n",
       "                                                                   SimpleImputer(strategy='constant')),\n",
       "                                                                  ('onehot',\n",
       "                                                                   OneHotEncoder(handle_unknown='ignore'))]),\n",
       "                                                  Index(['name', 'address', 'sex', 'date_of_birth', 'occupation',\n",
       "       'marital-status', 'pregnant', 'relationship', 'education', 'income',\n",
       "       'native-country', 'race', 'workclass'],\n",
       "      dtype='object'))])),\n",
       "                ('classifier', RandomForestClassifier())])"
      ]
     },
     "metadata": {},
     "execution_count": 20
    }
   ],
   "source": [
    "rf.fit(X_train, y_train)"
   ]
  },
  {
   "cell_type": "code",
   "execution_count": 21,
   "metadata": {},
   "outputs": [
    {
     "output_type": "stream",
     "name": "stdout",
     "text": [
      "[0. 0. 0. 0. 0. 0. 0. 0. 0. 0. 0. 0. 0. 0. 0. 0. 1. 1. 1. 0. 0. 0. 0. 1.\n 0. 1. 1. 0. 1. 0. 0. 0. 1. 1. 0. 0. 0. 0. 1. 0. 0. 0. 0. 1. 0. 0. 1. 0.\n 0. 0. 0. 0. 0. 0. 0. 0. 0. 1. 1. 0. 1. 0. 0. 1. 0. 0. 0. 0. 0. 0. 0. 1.\n 1. 0. 0. 0. 0. 0. 0. 0. 1. 0. 0. 0. 0. 0. 0. 0. 0. 0. 0. 0. 0. 1. 0. 0.\n 0. 0. 1. 0. 0. 0. 0. 1. 0. 0. 0. 0. 0. 1. 1. 0. 0. 0. 1. 1. 0. 0. 0. 0.\n 1. 0. 0. 0. 0. 0. 0. 1. 0. 0. 0. 0. 1. 1. 0. 0. 1. 0. 0. 0. 1. 0. 0. 1.\n 0. 1. 0. 0. 1. 1. 0. 0. 0. 0. 1. 0. 0. 0. 1. 1. 0. 0. 1. 1. 1. 1. 0. 1.\n 0. 0. 0. 0. 0. 1. 0. 1. 0. 0. 0. 0. 0. 0. 0. 0. 0. 0. 0. 0. 0. 1. 1. 1.\n 0. 0. 0. 0. 0. 0. 0. 0. 0. 1. 0. 0. 0. 1. 1. 0. 0. 0. 0. 0. 0. 0. 0. 0.\n 0. 0. 0. 0. 0. 0. 0. 1. 1. 0. 0. 1. 0. 0. 0. 0. 0. 0. 1. 0. 1. 1. 0. 0.\n 0. 0. 1. 0. 0. 0. 0. 1. 0. 1. 0. 0. 0. 0. 1. 0. 1. 1. 0. 0. 1. 0. 0. 0.\n 0. 0. 1. 0. 0. 0. 1. 0. 0. 0. 1. 0. 1. 0. 0. 1. 0. 0. 1. 0. 0. 0. 1. 0.\n 0. 0. 0. 0. 0. 0. 0. 0. 0. 0. 0. 0. 0. 1. 0. 0. 0. 0. 0. 0. 0. 1. 0. 0.\n 0. 1. 1. 0. 0. 1. 0. 0. 0. 0. 0. 0. 1. 0. 1. 0. 1. 0. 0. 0. 0. 0. 0. 0.\n 1. 0. 1. 1. 1. 0. 0. 0. 0. 0. 1. 0. 1. 1. 0. 0. 1. 0. 1. 1. 1. 0. 0. 0.\n 0. 0. 0. 0. 1. 0. 0. 0. 0. 0. 0. 0. 1. 0. 0. 0. 0. 0. 0. 1. 0. 1. 0. 0.\n 0. 0. 0. 0. 0. 0. 0. 1. 0. 0. 0. 1. 0. 0. 1. 1. 1. 1. 0. 1. 1. 0. 0. 0.\n 0. 0. 0. 0. 0. 0. 0. 0. 1. 1. 1. 0. 0. 0. 0. 0. 1. 0. 0. 0. 0. 0. 0. 1.\n 0. 0. 0. 0. 0. 0. 1. 0. 0. 0. 0. 1. 0. 0. 0. 0. 0. 0. 1. 1. 0. 0. 1. 1.\n 0. 0. 0. 0. 0. 0. 0. 1. 0. 0. 0. 0. 0. 0. 0. 0. 0. 0. 0. 0. 1. 1. 0. 0.\n 1. 0. 0. 0. 0. 0. 0. 0. 0. 0. 1. 0. 0. 0. 0. 0. 1. 1. 0. 1. 0. 0. 0. 0.\n 0. 0. 0. 0. 0. 1. 1. 1. 0. 1. 0. 1. 0. 0. 0. 0. 0. 0. 0. 1. 0. 0. 0. 0.\n 1. 0. 0. 0. 0. 0. 0. 0. 0. 0. 0. 0. 1. 1. 0. 0. 0. 0. 1. 0. 0. 1. 0. 1.\n 0. 0. 0. 0. 0. 0. 0. 1. 0. 1. 0. 0. 0. 0. 0. 0. 0. 0. 0. 0. 0. 1. 0. 0.\n 0. 0. 0. 1. 0. 0. 0. 0. 0. 0. 1. 0. 0. 0. 1. 0. 1. 0. 0. 0. 0. 0. 1. 0.\n 0. 0. 0. 0. 0. 0. 0. 0. 0. 0. 1. 0. 0. 0. 0. 0. 1. 1. 0. 1. 0. 1. 0. 0.\n 0. 0. 1. 0. 1. 0. 0. 0. 1. 0. 0. 0. 0. 1. 0. 0. 0. 0. 0. 0. 0. 0. 0. 0.\n 0. 0. 1. 0. 0. 0. 0. 0. 0. 0. 0. 0. 0. 1. 0. 0. 0. 0. 1. 0. 1. 0. 0. 0.\n 0. 0. 1. 0. 0. 0. 0. 0. 0. 0. 0. 0. 0. 0. 0. 0. 1. 0. 0. 1. 0. 0. 0. 1.\n 0. 0. 1. 0. 0. 0. 0. 0. 0. 0. 1. 0. 1. 0. 0. 0. 0. 1. 1. 1. 0. 1. 1. 0.\n 0. 0. 0. 0. 1. 0. 1. 0. 0. 1. 0. 0. 0. 0. 0. 0. 0. 0. 0. 0. 0. 1. 1. 0.\n 0. 0. 1. 0. 1. 0. 0. 0. 1. 0. 0. 0. 1. 0. 0. 0. 0. 0. 0. 0. 0. 0. 0. 1.\n 0. 0. 0. 0. 1. 0. 1. 0. 0. 0. 1. 0. 0. 0. 0. 0. 0.]\n"
     ]
    }
   ],
   "source": [
    "y_pred = rf.predict(X_test)\n",
    "print(y_pred)"
   ]
  },
  {
   "cell_type": "code",
   "execution_count": 22,
   "metadata": {},
   "outputs": [
    {
     "output_type": "stream",
     "name": "stdout",
     "text": [
      "KNeighborsClassifier(n_neighbors=3)\n",
      "model score: 0.918\n",
      "SVC(C=0.025, probability=True)\n",
      "model score: 0.916\n",
      "NuSVC(probability=True)\n",
      "model score: 0.898\n",
      "DecisionTreeClassifier()\n",
      "model score: 0.959\n",
      "RandomForestClassifier()\n",
      "model score: 0.959\n",
      "AdaBoostClassifier()\n",
      "model score: 0.958\n",
      "GradientBoostingClassifier()\n",
      "model score: 0.962\n"
     ]
    }
   ],
   "source": [
    "from sklearn.metrics import accuracy_score, log_loss\n",
    "from sklearn.neighbors import KNeighborsClassifier\n",
    "from sklearn.svm import SVC, LinearSVC, NuSVC\n",
    "from sklearn.tree import DecisionTreeClassifier\n",
    "from sklearn.ensemble import RandomForestClassifier, AdaBoostClassifier, GradientBoostingClassifier\n",
    "from sklearn.discriminant_analysis import LinearDiscriminantAnalysis\n",
    "from sklearn.discriminant_analysis import QuadraticDiscriminantAnalysis\n",
    "classifiers = [\n",
    "    KNeighborsClassifier(3),\n",
    "    SVC(kernel=\"rbf\", C=0.025, probability=True),\n",
    "    NuSVC(probability=True),\n",
    "    DecisionTreeClassifier(),\n",
    "    RandomForestClassifier(),\n",
    "    AdaBoostClassifier(),\n",
    "    GradientBoostingClassifier()\n",
    "    ]\n",
    "for classifier in classifiers:\n",
    "    pipe = Pipeline(steps=[('preprocessor', preprocessor),\n",
    "                      ('classifier', classifier)])\n",
    "    pipe.fit(X_train, y_train)   \n",
    "    print(classifier)\n",
    "    print(\"model score: %.3f\" % pipe.score(X_test, y_test))"
   ]
  },
  {
   "cell_type": "code",
   "execution_count": 23,
   "metadata": {},
   "outputs": [
    {
     "output_type": "stream",
     "name": "stdout",
     "text": [
      "{'classifier__criterion': 'gini', 'classifier__max_depth': 8, 'classifier__max_features': 'auto', 'classifier__n_estimators': 200}\n0.9053550930017573\n"
     ]
    }
   ],
   "source": [
    "param_grid = { \n",
    "    'classifier__n_estimators': [200, 500],\n",
    "    'classifier__max_features': ['auto', 'sqrt', 'log2'],\n",
    "    'classifier__max_depth' : [4,5,6,7,8],\n",
    "    'classifier__criterion' :['gini', 'entropy']}\n",
    "from sklearn.model_selection import GridSearchCV\n",
    "CV = GridSearchCV(rf, param_grid, n_jobs= 1)\n",
    "                  \n",
    "CV.fit(X_train, y_train)  \n",
    "print(CV.best_params_)    \n",
    "print(CV.best_score_)"
   ]
  },
  {
   "cell_type": "code",
   "execution_count": null,
   "metadata": {},
   "outputs": [],
   "source": []
  }
 ]
}