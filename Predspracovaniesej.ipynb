{
 "metadata": {
  "language_info": {
   "codemirror_mode": {
    "name": "ipython",
    "version": 3
   },
   "file_extension": ".py",
   "mimetype": "text/x-python",
   "name": "python",
   "nbconvert_exporter": "python",
   "pygments_lexer": "ipython3",
   "version": "3.8.6-final"
  },
  "orig_nbformat": 2,
  "kernelspec": {
   "name": "python3",
   "display_name": "Python 3.8.6 64-bit",
   "metadata": {
    "interpreter": {
     "hash": "2db524e06e9f5f4ffedc911c917cb75e12dbc923643829bf417064a77eb14d37"
    }
   }
  }
 },
 "nbformat": 4,
 "nbformat_minor": 2,
 "cells": [
  {
   "cell_type": "code",
   "execution_count": 966,
   "metadata": {},
   "outputs": [],
   "source": [
    "import matplotlib.pyplot as plt\n",
    "import pylab as py\n",
    "import seaborn as sns\n",
    "import pandas as pd\n",
    "import numpy as np\n",
    "import statsmodels.api as sm\n",
    "import statsmodels.stats as sm_stats\n",
    "import statsmodels.stats.api as sms\n",
    "import scipy.stats as stats\n",
    "from sklearn import preprocessing\n",
    "from numpy.random import seed\n",
    "from numpy.random import rand\n",
    "from numpy.random import randn\n",
    "from numpy import mean\n",
    "from numpy import var\n",
    "from math import sqrt\n",
    "import re\n",
    "import json\n",
    "from sklearn.model_selection import train_test_split\n",
    "from sklearn.pipeline import Pipeline\n",
    "from sklearn.impute import SimpleImputer\n",
    "from sklearn.preprocessing import StandardScaler, OneHotEncoder\n",
    "from sklearn.compose import ColumnTransformer\n",
    "from sklearn.metrics import accuracy_score, log_loss\n",
    "from sklearn.neighbors import KNeighborsClassifier\n",
    "from sklearn.svm import SVC, LinearSVC, NuSVC\n",
    "from sklearn.tree import DecisionTreeClassifier\n",
    "from sklearn.ensemble import RandomForestClassifier, AdaBoostClassifier, GradientBoostingClassifier\n",
    "from sklearn.discriminant_analysis import LinearDiscriminantAnalysis\n",
    "from sklearn.discriminant_analysis import QuadraticDiscriminantAnalysis"
   ]
  },
  {
   "cell_type": "code",
   "execution_count": 967,
   "metadata": {},
   "outputs": [],
   "source": [
    "personal_data = pd.read_csv(\"Dataset/personal_train.csv\")\n",
    "other_data = pd.read_csv(\"Dataset/other_train.csv\")"
   ]
  },
  {
   "cell_type": "code",
   "execution_count": 968,
   "metadata": {},
   "outputs": [],
   "source": [
    "if 'Unnamed: 0' in personal_data:\n",
    "    del personal_data['Unnamed: 0']\n",
    "if 'Unnamed: 0' in other_data:\n",
    "    del other_data['Unnamed: 0']"
   ]
  },
  {
   "cell_type": "code",
   "execution_count": 969,
   "metadata": {},
   "outputs": [
    {
     "output_type": "stream",
     "name": "stdout",
     "text": [
      "<class 'pandas.core.frame.DataFrame'>\nInt64Index: 3933 entries, 0 to 3982\nData columns (total 22 columns):\n #   Column           Non-Null Count  Dtype  \n---  ------           --------------  -----  \n 0   name             3933 non-null   object \n 1   address          3933 non-null   object \n 2   kurtosis_oxygen  3929 non-null   float64\n 3   occupation       3926 non-null   object \n 4   marital-status   3925 non-null   object \n 5   pregnant         3929 non-null   object \n 6   education-num    3535 non-null   float64\n 7   relationship     3926 non-null   object \n 8   std_oxygen       3925 non-null   float64\n 9   capital-gain     3928 non-null   float64\n 10  skewness_oxygen  3925 non-null   float64\n 11  education        3926 non-null   object \n 12  fnlwgt           3928 non-null   float64\n 13  class            3923 non-null   float64\n 14  income           3927 non-null   object \n 15  medical_info     3933 non-null   object \n 16  native-country   3931 non-null   object \n 17  capital-loss     3927 non-null   float64\n 18  mean_oxygen      3927 non-null   float64\n 19  hours-per-week   3929 non-null   float64\n 20  race             3679 non-null   object \n 21  workclass        3925 non-null   object \ndtypes: float64(10), object(12)\nmemory usage: 706.7+ KB\n"
     ]
    }
   ],
   "source": [
    "unique_medical_name_dataset = other_data.dropna(subset=['medical_info']).drop_duplicates('name')\n",
    "unique_medical_name_dataset.info()"
   ]
  },
  {
   "cell_type": "code",
   "execution_count": 970,
   "metadata": {},
   "outputs": [
    {
     "output_type": "stream",
     "name": "stdout",
     "text": [
      "<class 'pandas.core.frame.DataFrame'>\nRangeIndex: 3933 entries, 0 to 3932\nData columns (total 5 columns):\n #   Column            Non-Null Count  Dtype  \n---  ------            --------------  -----  \n 0   mean_glucose      3933 non-null   float64\n 1   std_glucose       3933 non-null   float64\n 2   kurtosis_glucose  3933 non-null   float64\n 3   skewness_glucose  3933 non-null   float64\n 4   name              3933 non-null   object \ndtypes: float64(4), object(1)\nmemory usage: 153.8+ KB\n"
     ]
    }
   ],
   "source": [
    "# create a dataset from 'medical_info' attribute\n",
    "medical_data_objects = []\n",
    "for index, record in unique_medical_name_dataset.iterrows():\n",
    "    if isinstance(record['medical_info'], float):\n",
    "        continue\n",
    "    medical_object = json.loads(record['medical_info'].replace(\"\\'\", '\\\"').replace(':\\\"',':').replace('\\\",',',').replace('\\\"}','}'))\n",
    "    medical_object['name'] = record['name']\n",
    "    medical_data_objects.append(medical_object)\n",
    "medical_info_dataset = pd.DataFrame(medical_data_objects)\n",
    "medical_info_dataset.info()"
   ]
  },
  {
   "cell_type": "code",
   "execution_count": 971,
   "metadata": {},
   "outputs": [
    {
     "output_type": "stream",
     "name": "stdout",
     "text": [
      "<class 'pandas.core.frame.DataFrame'>\nInt64Index: 3933 entries, 0 to 3932\nData columns (total 28 columns):\n #   Column            Non-Null Count  Dtype  \n---  ------            --------------  -----  \n 0   name              3933 non-null   object \n 1   address           3933 non-null   object \n 2   age               3933 non-null   int64  \n 3   sex               3933 non-null   object \n 4   date_of_birth     3933 non-null   object \n 5   kurtosis_oxygen   3929 non-null   float64\n 6   occupation        3926 non-null   object \n 7   marital-status    3925 non-null   object \n 8   pregnant          3929 non-null   object \n 9   education-num     3535 non-null   float64\n 10  relationship      3926 non-null   object \n 11  std_oxygen        3925 non-null   float64\n 12  capital-gain      3928 non-null   float64\n 13  skewness_oxygen   3925 non-null   float64\n 14  education         3926 non-null   object \n 15  fnlwgt            3928 non-null   float64\n 16  class             3923 non-null   float64\n 17  income            3927 non-null   object \n 18  native-country    3931 non-null   object \n 19  capital-loss      3927 non-null   float64\n 20  mean_oxygen       3927 non-null   float64\n 21  hours-per-week    3929 non-null   float64\n 22  race              3679 non-null   object \n 23  workclass         3925 non-null   object \n 24  mean_glucose      3933 non-null   float64\n 25  std_glucose       3933 non-null   float64\n 26  kurtosis_glucose  3933 non-null   float64\n 27  skewness_glucose  3933 non-null   float64\ndtypes: float64(14), int64(1), object(13)\nmemory usage: 891.1+ KB\n"
     ]
    }
   ],
   "source": [
    "# merge datasets to create single large dataset with usefull data so it's easier to create graphs and analysis\n",
    "merged_medical_info_dataset = unique_medical_name_dataset.merge(medical_info_dataset, on=['name'], how='outer').drop('medical_info', axis='columns')\n",
    "usefull_dataset = personal_data.merge(merged_medical_info_dataset, on=['name', 'address'], how='outer')\n",
    "usefull_dataset.info()"
   ]
  },
  {
   "source": [
    "Remove NaN values\n"
   ],
   "cell_type": "markdown",
   "metadata": {}
  },
  {
   "cell_type": "code",
   "execution_count": 972,
   "metadata": {},
   "outputs": [],
   "source": [
    "# test = usefull_dataset.drop(['name','address','date_of_birth','occupation','marital-status','education-num','relationship','capital-gain','education','income','capital-loss','hours-per-week','workclass'],axis=1)\n",
    "\n",
    "test = usefull_dataset\n",
    "test = test[test['class'].isnull()==False]\n",
    "test.replace('?',np.NaN,inplace=True)"
   ]
  },
  {
   "cell_type": "code",
   "execution_count": 973,
   "metadata": {},
   "outputs": [
    {
     "output_type": "stream",
     "name": "stdout",
     "text": [
      "<class 'pandas.core.frame.DataFrame'>\nInt64Index: 3138 entries, 2111 to 2551\nData columns (total 27 columns):\n #   Column            Non-Null Count  Dtype  \n---  ------            --------------  -----  \n 0   name              3138 non-null   object \n 1   address           3138 non-null   object \n 2   age               3138 non-null   int64  \n 3   sex               3138 non-null   object \n 4   date_of_birth     3138 non-null   object \n 5   kurtosis_oxygen   3136 non-null   float64\n 6   occupation        3132 non-null   object \n 7   marital-status    3133 non-null   object \n 8   pregnant          3135 non-null   object \n 9   education-num     2818 non-null   float64\n 10  relationship      3135 non-null   object \n 11  std_oxygen        3134 non-null   float64\n 12  capital-gain      3134 non-null   float64\n 13  skewness_oxygen   3133 non-null   float64\n 14  education         3133 non-null   object \n 15  fnlwgt            3134 non-null   float64\n 16  income            3133 non-null   object \n 17  native-country    3136 non-null   object \n 18  capital-loss      3135 non-null   float64\n 19  mean_oxygen       3135 non-null   float64\n 20  hours-per-week    3135 non-null   float64\n 21  race              2928 non-null   object \n 22  workclass         3133 non-null   object \n 23  mean_glucose      3138 non-null   float64\n 24  std_glucose       3138 non-null   float64\n 25  kurtosis_glucose  3138 non-null   float64\n 26  skewness_glucose  3138 non-null   float64\ndtypes: float64(13), int64(1), object(13)\nmemory usage: 686.4+ KB\n<class 'pandas.core.frame.DataFrame'>\nInt64Index: 785 entries, 3196 to 2385\nData columns (total 27 columns):\n #   Column            Non-Null Count  Dtype  \n---  ------            --------------  -----  \n 0   name              785 non-null    object \n 1   address           785 non-null    object \n 2   age               785 non-null    int64  \n 3   sex               785 non-null    object \n 4   date_of_birth     785 non-null    object \n 5   kurtosis_oxygen   784 non-null    float64\n 6   occupation        785 non-null    object \n 7   marital-status    784 non-null    object \n 8   pregnant          785 non-null    object \n 9   education-num     708 non-null    float64\n 10  relationship      784 non-null    object \n 11  std_oxygen        783 non-null    float64\n 12  capital-gain      785 non-null    float64\n 13  skewness_oxygen   783 non-null    float64\n 14  education         785 non-null    object \n 15  fnlwgt            785 non-null    float64\n 16  income            784 non-null    object \n 17  native-country    785 non-null    object \n 18  capital-loss      783 non-null    float64\n 19  mean_oxygen       784 non-null    float64\n 20  hours-per-week    784 non-null    float64\n 21  race              743 non-null    object \n 22  workclass         784 non-null    object \n 23  mean_glucose      785 non-null    float64\n 24  std_glucose       785 non-null    float64\n 25  kurtosis_glucose  785 non-null    float64\n 26  skewness_glucose  785 non-null    float64\ndtypes: float64(13), int64(1), object(13)\nmemory usage: 171.7+ KB\nNone None\n3138 785\n"
     ]
    }
   ],
   "source": [
    "X = test.drop('class', axis=1)\n",
    "y = test['class']\n",
    "\n",
    "X_train, X_test, y_train, y_test = train_test_split(X, y, test_size=0.2)\n",
    "\n",
    "print(X_train.info(),X_test.info())\n",
    "print(y_train.count(),y_test.count())\n"
   ]
  },
  {
   "cell_type": "code",
   "execution_count": 974,
   "metadata": {},
   "outputs": [
    {
     "output_type": "stream",
     "name": "stdout",
     "text": [
      "['age', 'kurtosis_oxygen', 'education-num', 'std_oxygen', 'capital-gain', 'skewness_oxygen', 'fnlwgt', 'class', 'capital-loss', 'mean_oxygen', 'hours-per-week', 'mean_glucose', 'std_glucose', 'kurtosis_glucose', 'skewness_glucose']\n['name', 'address', 'sex', 'date_of_birth', 'occupation', 'marital-status', 'pregnant', 'relationship', 'education', 'income', 'native-country', 'race', 'workclass']\n"
     ]
    }
   ],
   "source": [
    "numeric_features = test.select_dtypes(include=['int64', 'float64']).columns\n",
    "categorical_features = test.select_dtypes(include=['object']).columns\n",
    "\n",
    "print(numeric_features.tolist())\n",
    "print(categorical_features.tolist())"
   ]
  },
  {
   "cell_type": "code",
   "execution_count": 975,
   "metadata": {},
   "outputs": [
    {
     "output_type": "stream",
     "name": "stdout",
     "text": [
      "<class 'pandas.core.frame.DataFrame'>\nInt64Index: 3923 entries, 0 to 3932\nData columns (total 28 columns):\n #   Column            Non-Null Count  Dtype  \n---  ------            --------------  -----  \n 0   age               3923 non-null   int64  \n 1   kurtosis_oxygen   3923 non-null   float64\n 2   education-num     3923 non-null   float64\n 3   std_oxygen        3923 non-null   float64\n 4   capital-gain      3923 non-null   float64\n 5   skewness_oxygen   3923 non-null   float64\n 6   fnlwgt            3923 non-null   float64\n 7   class             3923 non-null   float64\n 8   capital-loss      3923 non-null   float64\n 9   mean_oxygen       3923 non-null   float64\n 10  hours-per-week    3923 non-null   float64\n 11  mean_glucose      3923 non-null   float64\n 12  std_glucose       3923 non-null   float64\n 13  kurtosis_glucose  3923 non-null   float64\n 14  skewness_glucose  3923 non-null   float64\n 15  name              3923 non-null   object \n 16  address           3923 non-null   object \n 17  sex               3923 non-null   object \n 18  date_of_birth     3923 non-null   object \n 19  occupation        3923 non-null   object \n 20  marital-status    3923 non-null   object \n 21  pregnant          3923 non-null   object \n 22  relationship      3923 non-null   object \n 23  education         3923 non-null   object \n 24  income            3923 non-null   object \n 25  native-country    3923 non-null   object \n 26  race              3923 non-null   object \n 27  workclass         3923 non-null   object \ndtypes: float64(14), int64(1), object(13)\nmemory usage: 888.8+ KB\n"
     ]
    }
   ],
   "source": [
    "num = Pipeline(steps=[('imputer', SimpleImputer(missing_values=np.nan,strategy='median'))])\n",
    "cat = Pipeline(steps=[('imputer', SimpleImputer(missing_values=np.nan,strategy='most_frequent'))])\n",
    "full = ColumnTransformer(\n",
    "    transformers=[\n",
    "        ('num',  num, numeric_features),\n",
    "        ('cat', cat, categorical_features)])\n",
    "\n",
    "columns = numeric_features.tolist() + categorical_features.tolist()\n",
    "dtype = {}\n",
    "for column in columns:\n",
    "    dtype[column]=(test.dtypes.to_dict()[column])\n",
    "\n",
    "test2 = pd.DataFrame(full.fit_transform(test), columns=columns,index=test.index).astype(dtype)\n",
    "test2.info()\n"
   ]
  },
  {
   "source": [
    "# Feature reduction"
   ],
   "cell_type": "markdown",
   "metadata": {}
  },
  {
   "cell_type": "code",
   "execution_count": 976,
   "metadata": {},
   "outputs": [
    {
     "output_type": "stream",
     "name": "stdout",
     "text": [
      "<class 'pandas.core.frame.DataFrame'>\nInt64Index: 3923 entries, 0 to 3932\nData columns (total 15 columns):\n #   Column            Non-Null Count  Dtype  \n---  ------            --------------  -----  \n 0   age               3923 non-null   int64  \n 1   kurtosis_oxygen   3923 non-null   float64\n 2   std_oxygen        3923 non-null   float64\n 3   skewness_oxygen   3923 non-null   float64\n 4   fnlwgt            3923 non-null   float64\n 5   class             3923 non-null   float64\n 6   mean_oxygen       3923 non-null   float64\n 7   hours-per-week    3923 non-null   float64\n 8   mean_glucose      3923 non-null   float64\n 9   std_glucose       3923 non-null   float64\n 10  kurtosis_glucose  3923 non-null   float64\n 11  skewness_glucose  3923 non-null   float64\n 12  pregnant          3923 non-null   int64  \n 13  sex_ Female       3923 non-null   uint8  \n 14  sex_ Male         3923 non-null   uint8  \ndtypes: float64(11), int64(2), uint8(2)\nmemory usage: 436.7 KB\n"
     ]
    }
   ],
   "source": [
    "columns_to_remove = ['name', 'education-num', 'capital-gain', 'capital-loss', 'address', 'date_of_birth', 'occupation', 'marital-status','relationship', 'education', 'native-country', 'workclass', 'income', 'race']\n",
    "\n",
    "test2['pregnant'] = test2['pregnant'].apply(lambda value: 0 if re.search('T', value, re.IGNORECASE) else 1)\n",
    "# manualne odstranenie stlpcov ktore podla nas nemaju vplyv na vyslednu hodnotu (vacsinou kategoricke atributy)\n",
    "dataset_for_UST = test2.drop(columns_to_remove, axis=1, errors='ignore')\n",
    "columns_to_remove.append('pregnant')\n",
    "categorical_features = categorical_features.drop(columns_to_remove, errors='ignore')\n",
    "\n",
    "dataset_for_UST = pd.get_dummies(dataset_for_UST, columns=categorical_features)\n",
    "dataset_for_UST.info()"
   ]
  },
  {
   "cell_type": "code",
   "execution_count": 977,
   "metadata": {},
   "outputs": [
    {
     "output_type": "stream",
     "name": "stdout",
     "text": [
      "[6.021e+02 1.762e+03 2.829e+03 7.112e+02 1.369e+00 1.428e+03 2.048e+00\n 1.382e+00 1.318e+03 6.465e+03 3.406e+03 3.278e-01 5.135e-02 5.135e-02]\n<class 'pandas.core.frame.DataFrame'>\nInt64Index: 3923 entries, 0 to 3932\nData columns (total 11 columns):\n #   Column            Non-Null Count  Dtype  \n---  ------            --------------  -----  \n 0   age               3923 non-null   int64  \n 1   kurtosis_oxygen   3923 non-null   float64\n 2   std_oxygen        3923 non-null   float64\n 3   skewness_oxygen   3923 non-null   float64\n 4   class             3923 non-null   float64\n 5   mean_oxygen       3923 non-null   float64\n 6   hours-per-week    3923 non-null   float64\n 7   mean_glucose      3923 non-null   float64\n 8   std_glucose       3923 non-null   float64\n 9   kurtosis_glucose  3923 non-null   float64\n 10  skewness_glucose  3923 non-null   float64\ndtypes: float64(10), int64(1)\nmemory usage: 367.8 KB\n"
     ]
    }
   ],
   "source": [
    "# Feature Selection with Univariate Statistical Tests\n",
    "# pouzijeme statisticke tety aby sme vybrali K najlepsich atributov ktore najviac vplyvaju na vysledok\n",
    "from sklearn.feature_selection import SelectKBest\n",
    "from sklearn.feature_selection import f_classif\n",
    "\n",
    "UST_X = dataset_for_UST.drop('class', axis=1)\n",
    "UST_y = dataset_for_UST['class']\n",
    "\n",
    "# feature extraction\n",
    "test = SelectKBest(score_func=f_classif, k=10)\n",
    "fit = test.fit(UST_X, UST_y)\n",
    "# summarize scores\n",
    "#vidime ze niektore atributy maju miniaturny vplyv na vysledok priam az zanedbatelny tak ich vyhodime aby sme zrychlili vypocet modelu\n",
    "set_printoptions(precision=3)\n",
    "print(fit.scores_)\n",
    "features_columns = {}\n",
    "for i in range(len(fit.scores_)):\n",
    "    features_columns[UST_X.columns[i]] = fit.scores_[i]\n",
    "columns_by_rank = {k: features_columns[k] for k in sorted(features_columns, key=features_columns.get, reverse=True)}\n",
    "columns_to_remove = list(columns_by_rank.keys())[-4:]\n",
    "reduced_dataset = dataset_for_UST.drop(columns_to_remove, axis=1, errors='ignore')\n",
    "reduced_dataset.info()"
   ]
  },
  {
   "cell_type": "code",
   "execution_count": 978,
   "metadata": {},
   "outputs": [
    {
     "output_type": "stream",
     "name": "stdout",
     "text": [
      "<class 'pandas.core.frame.DataFrame'>\nInt64Index: 3923 entries, 0 to 3932\nData columns (total 11 columns):\n #   Column            Non-Null Count  Dtype  \n---  ------            --------------  -----  \n 0   age               3923 non-null   int64  \n 1   kurtosis_oxygen   3923 non-null   float64\n 2   std_oxygen        3923 non-null   float64\n 3   skewness_oxygen   3923 non-null   float64\n 4   class             3923 non-null   float64\n 5   mean_oxygen       3923 non-null   float64\n 6   hours-per-week    3923 non-null   float64\n 7   mean_glucose      3923 non-null   float64\n 8   std_glucose       3923 non-null   float64\n 9   kurtosis_glucose  3923 non-null   float64\n 10  skewness_glucose  3923 non-null   float64\ndtypes: float64(10), int64(1)\nmemory usage: 367.8 KB\n"
     ]
    }
   ],
   "source": [
    "reduced_dataset.info()"
   ]
  },
  {
   "source": [
    "# Odstranenie outlierov\n",
    "zvolili sme metodu IRQ na detekciu outlierov a hodnoty ktore su outlieri nahradime krajnymi hodnotami"
   ],
   "cell_type": "markdown",
   "metadata": {}
  },
  {
   "cell_type": "code",
   "execution_count": 979,
   "metadata": {},
   "outputs": [],
   "source": [
    "import math\n",
    "for column in reduced_dataset.columns:\n",
    "    Q1 = reduced_dataset[column].quantile(0.25)\n",
    "    Q3 = reduced_dataset[column].quantile(0.75)\n",
    "\n",
    "    IRQ = Q3 - Q1\n",
    "\n",
    "    lower_bound = Q1 - (1.5*IRQ)\n",
    "    upper_bound = Q3 + (1.5*IRQ)\n",
    "    if(reduced_dataset[column].dtype == 'int64'):\n",
    "        reduced_dataset[column] = reduced_dataset[column].apply(lambda val: math.floor(lower_bound) if val < lower_bound else math.floor(upper_bound) if val > upper_bound else val)\n",
    "    else:\n",
    "        reduced_dataset[column] = reduced_dataset[column].apply(lambda val: lower_bound if val < lower_bound else upper_bound if val > upper_bound else val)"
   ]
  },
  {
   "cell_type": "code",
   "execution_count": 980,
   "metadata": {},
   "outputs": [
    {
     "output_type": "stream",
     "name": "stdout",
     "text": [
      "<class 'pandas.core.frame.DataFrame'>\nInt64Index: 3923 entries, 0 to 3932\nData columns (total 2 columns):\n #   Column  Non-Null Count  Dtype  \n---  ------  --------------  -----  \n 0   age     3923 non-null   int64  \n 1   class   3923 non-null   float64\ndtypes: float64(1), int64(1)\nmemory usage: 91.9 KB\n"
     ]
    }
   ],
   "source": [
    "#reduced_dataset.info()\n",
    "backup_age_class = reduced_dataset[['age', 'class']]\n",
    "backup_age_class.info()"
   ]
  },
  {
   "source": [
    "# Data transofrmation"
   ],
   "cell_type": "markdown",
   "metadata": {}
  },
  {
   "cell_type": "code",
   "execution_count": 981,
   "metadata": {},
   "outputs": [
    {
     "output_type": "execute_result",
     "data": {
      "text/plain": [
       "     age  kurtosis_oxygen  std_oxygen  skewness_oxygen  class  mean_oxygen  \\\n",
       "0  0.375         0.082247   -0.075426         0.089498    0.0    -0.041283   \n",
       "1  0.000        -0.663888    0.997205        -0.510628    1.0     1.085448   \n",
       "2  0.750        -0.530120    0.487227        -0.444128    0.0     0.492008   \n",
       "3  0.875        -0.021277    0.085073        -0.049392    0.0     0.038442   \n",
       "4  0.750        -1.132870    1.948401        -0.608387    1.0     2.389726   \n",
       "\n",
       "   hours-per-week  mean_glucose  std_glucose  kurtosis_glucose  \\\n",
       "0            -1.0     -0.496101    -0.021007          0.130655   \n",
       "1            -1.0     -1.263178    -1.489166          2.162239   \n",
       "2             1.0      0.012966    -0.183808          0.194317   \n",
       "3             0.0      0.098656     1.202835         -0.059191   \n",
       "4            -1.0      1.858358    -0.221690          2.162239   \n",
       "\n",
       "   skewness_glucose  \n",
       "0          0.088959  \n",
       "1          2.275891  \n",
       "2          0.158980  \n",
       "3         -0.425245  \n",
       "4          2.275891  "
      ],
      "text/html": "<div>\n<style scoped>\n    .dataframe tbody tr th:only-of-type {\n        vertical-align: middle;\n    }\n\n    .dataframe tbody tr th {\n        vertical-align: top;\n    }\n\n    .dataframe thead th {\n        text-align: right;\n    }\n</style>\n<table border=\"1\" class=\"dataframe\">\n  <thead>\n    <tr style=\"text-align: right;\">\n      <th></th>\n      <th>age</th>\n      <th>kurtosis_oxygen</th>\n      <th>std_oxygen</th>\n      <th>skewness_oxygen</th>\n      <th>class</th>\n      <th>mean_oxygen</th>\n      <th>hours-per-week</th>\n      <th>mean_glucose</th>\n      <th>std_glucose</th>\n      <th>kurtosis_glucose</th>\n      <th>skewness_glucose</th>\n    </tr>\n  </thead>\n  <tbody>\n    <tr>\n      <th>0</th>\n      <td>0.375</td>\n      <td>0.082247</td>\n      <td>-0.075426</td>\n      <td>0.089498</td>\n      <td>0.0</td>\n      <td>-0.041283</td>\n      <td>-1.0</td>\n      <td>-0.496101</td>\n      <td>-0.021007</td>\n      <td>0.130655</td>\n      <td>0.088959</td>\n    </tr>\n    <tr>\n      <th>1</th>\n      <td>0.000</td>\n      <td>-0.663888</td>\n      <td>0.997205</td>\n      <td>-0.510628</td>\n      <td>1.0</td>\n      <td>1.085448</td>\n      <td>-1.0</td>\n      <td>-1.263178</td>\n      <td>-1.489166</td>\n      <td>2.162239</td>\n      <td>2.275891</td>\n    </tr>\n    <tr>\n      <th>2</th>\n      <td>0.750</td>\n      <td>-0.530120</td>\n      <td>0.487227</td>\n      <td>-0.444128</td>\n      <td>0.0</td>\n      <td>0.492008</td>\n      <td>1.0</td>\n      <td>0.012966</td>\n      <td>-0.183808</td>\n      <td>0.194317</td>\n      <td>0.158980</td>\n    </tr>\n    <tr>\n      <th>3</th>\n      <td>0.875</td>\n      <td>-0.021277</td>\n      <td>0.085073</td>\n      <td>-0.049392</td>\n      <td>0.0</td>\n      <td>0.038442</td>\n      <td>0.0</td>\n      <td>0.098656</td>\n      <td>1.202835</td>\n      <td>-0.059191</td>\n      <td>-0.425245</td>\n    </tr>\n    <tr>\n      <th>4</th>\n      <td>0.750</td>\n      <td>-1.132870</td>\n      <td>1.948401</td>\n      <td>-0.608387</td>\n      <td>1.0</td>\n      <td>2.389726</td>\n      <td>-1.0</td>\n      <td>1.858358</td>\n      <td>-0.221690</td>\n      <td>2.162239</td>\n      <td>2.275891</td>\n    </tr>\n  </tbody>\n</table>\n</div>"
     },
     "metadata": {},
     "execution_count": 981
    }
   ],
   "source": [
    "from sklearn.preprocessing import RobustScaler\n",
    "scaler = RobustScaler()\n",
    "scaled = scaler.fit_transform(reduced_dataset)\n",
    "reduced_dataset = pd.DataFrame(scaled, columns=reduced_dataset.columns)\n",
    "reduced_dataset.head()"
   ]
  },
  {
   "cell_type": "code",
   "execution_count": 982,
   "metadata": {},
   "outputs": [
    {
     "output_type": "stream",
     "name": "stdout",
     "text": [
      "age                   symmetrical     -0.11261830459291686\n",
      "kurtosis_oxygen       symmetrical     0.26435737046762103\n",
      "std_oxygen            positive skew   1.1391044303230098\n",
      "skewness_oxygen       positive skew   1.0411017300995582\n",
      "class                 positive skew   1.1201604135483203\n",
      "mean_oxygen           positive skew   1.1759869645362848\n",
      "hours-per-week        symmetrical     0.44295735333985503\n",
      "mean_glucose          symmetrical     -0.3820634557028439\n",
      "std_glucose           symmetrical     -0.21922145316305633\n",
      "kurtosis_glucose      positive skew   0.9002970201047747\n",
      "skewness_glucose      positive skew   1.1098057557232073\n",
      "age                   in middle       1.1098057557232073\n",
      "kurtosis_oxygen       in middle       1.1098057557232073\n",
      "std_oxygen            in middle       1.1098057557232073\n",
      "skewness_oxygen       in middle       1.1098057557232073\n",
      "class                 in middle       1.1098057557232073\n",
      "mean_oxygen           in middle       1.1098057557232073\n",
      "hours-per-week        in middle       1.1098057557232073\n",
      "mean_glucose          in middle       1.1098057557232073\n",
      "std_glucose           in middle       1.1098057557232073\n",
      "kurtosis_glucose      in middle       1.1098057557232073\n",
      "skewness_glucose      in middle       1.1098057557232073\n"
     ]
    }
   ],
   "source": [
    "for column in reduced_dataset.columns:\n",
    "    skewness = stats.skew(reduced_dataset[column])\n",
    "    tab = 20 - len(column)\n",
    "    if skewness <= 0.5 and skewness >= -0.5:\n",
    "        print(column,' ' * tab, 'symmetrical    ', skewness)\n",
    "    elif skewness < -0.5:\n",
    "        print(column,' ' * tab, 'negative skew  ', skewness)\n",
    "    else:\n",
    "        print(column,' ' * tab, 'positive skew  ', skewness)\n",
    "\n",
    "for column in reduced_dataset.columns:\n",
    "    kurtosis = stats.kurtosis(reduced_dataset[column])\n",
    "    tab = 20 - len(column)\n",
    "    if kurtosis <= 3.5 and kurtosis >= 2.5:\n",
    "        print(column,' ' * tab, 'symmetrical    ', skewness)\n",
    "    elif skewness < 2.5:\n",
    "        print(column,' ' * tab, 'in middle      ', skewness)\n",
    "    else:\n",
    "        print(column,' ' * tab, 'on outer       ', skewness)"
   ]
  },
  {
   "cell_type": "code",
   "execution_count": 984,
   "metadata": {},
   "outputs": [
    {
     "output_type": "execute_result",
     "data": {
      "text/plain": [
       "   age  kurtosis_oxygen  std_oxygen  skewness_oxygen  class  mean_oxygen  \\\n",
       "0   58         0.250632   -0.343399         0.253157    0.0    -0.388419   \n",
       "1   52        -0.857126    1.111366        -1.087999    1.0     1.159388   \n",
       "2   64        -0.651324    0.722082        -0.895583    0.0     0.806858   \n",
       "3   66         0.103456    0.104006         0.018476    0.0    -0.046635   \n",
       "4   64        -1.598549    1.461677        -1.391921    1.0     1.405724   \n",
       "\n",
       "   hours-per-week  mean_glucose  std_glucose  kurtosis_glucose  \\\n",
       "0       -1.036520     -0.373083     0.016463          0.047842   \n",
       "1       -1.036520     -1.074306    -1.821688          1.540945   \n",
       "2        0.697070      0.143306    -0.205758          0.124239   \n",
       "3       -0.063748      0.236123     1.879615         -0.206186   \n",
       "4       -1.036520      2.452943    -0.256553          1.540945   \n",
       "\n",
       "   skewness_glucose  \n",
       "0          0.046490  \n",
       "1          1.471494  \n",
       "2          0.169382  \n",
       "3         -1.554265  \n",
       "4          1.471494  "
      ],
      "text/html": "<div>\n<style scoped>\n    .dataframe tbody tr th:only-of-type {\n        vertical-align: middle;\n    }\n\n    .dataframe tbody tr th {\n        vertical-align: top;\n    }\n\n    .dataframe thead th {\n        text-align: right;\n    }\n</style>\n<table border=\"1\" class=\"dataframe\">\n  <thead>\n    <tr style=\"text-align: right;\">\n      <th></th>\n      <th>age</th>\n      <th>kurtosis_oxygen</th>\n      <th>std_oxygen</th>\n      <th>skewness_oxygen</th>\n      <th>class</th>\n      <th>mean_oxygen</th>\n      <th>hours-per-week</th>\n      <th>mean_glucose</th>\n      <th>std_glucose</th>\n      <th>kurtosis_glucose</th>\n      <th>skewness_glucose</th>\n    </tr>\n  </thead>\n  <tbody>\n    <tr>\n      <th>0</th>\n      <td>58</td>\n      <td>0.250632</td>\n      <td>-0.343399</td>\n      <td>0.253157</td>\n      <td>0.0</td>\n      <td>-0.388419</td>\n      <td>-1.036520</td>\n      <td>-0.373083</td>\n      <td>0.016463</td>\n      <td>0.047842</td>\n      <td>0.046490</td>\n    </tr>\n    <tr>\n      <th>1</th>\n      <td>52</td>\n      <td>-0.857126</td>\n      <td>1.111366</td>\n      <td>-1.087999</td>\n      <td>1.0</td>\n      <td>1.159388</td>\n      <td>-1.036520</td>\n      <td>-1.074306</td>\n      <td>-1.821688</td>\n      <td>1.540945</td>\n      <td>1.471494</td>\n    </tr>\n    <tr>\n      <th>2</th>\n      <td>64</td>\n      <td>-0.651324</td>\n      <td>0.722082</td>\n      <td>-0.895583</td>\n      <td>0.0</td>\n      <td>0.806858</td>\n      <td>0.697070</td>\n      <td>0.143306</td>\n      <td>-0.205758</td>\n      <td>0.124239</td>\n      <td>0.169382</td>\n    </tr>\n    <tr>\n      <th>3</th>\n      <td>66</td>\n      <td>0.103456</td>\n      <td>0.104006</td>\n      <td>0.018476</td>\n      <td>0.0</td>\n      <td>-0.046635</td>\n      <td>-0.063748</td>\n      <td>0.236123</td>\n      <td>1.879615</td>\n      <td>-0.206186</td>\n      <td>-1.554265</td>\n    </tr>\n    <tr>\n      <th>4</th>\n      <td>64</td>\n      <td>-1.598549</td>\n      <td>1.461677</td>\n      <td>-1.391921</td>\n      <td>1.0</td>\n      <td>1.405724</td>\n      <td>-1.036520</td>\n      <td>2.452943</td>\n      <td>-0.256553</td>\n      <td>1.540945</td>\n      <td>1.471494</td>\n    </tr>\n  </tbody>\n</table>\n</div>"
     },
     "metadata": {},
     "execution_count": 984
    }
   ],
   "source": [
    "from sklearn.preprocessing import PowerTransformer\n",
    "\n",
    "power = PowerTransformer(method='yeo-johnson', standardize=True) \n",
    "data_trans = power.fit_transform(reduced_dataset)\n",
    "reduced_dataset = pd.DataFrame(data_trans, columns=reduced_dataset.columns)\n",
    "reduced_dataset['age'] = backup_age_class['age'].values\n",
    "reduced_dataset['class'] = backup_age_class['class'].values\n",
    "reduced_dataset.head()"
   ]
  }
 ]
}